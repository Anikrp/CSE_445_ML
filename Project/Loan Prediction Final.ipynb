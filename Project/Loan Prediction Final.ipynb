{
 "cells": [
  {
   "cell_type": "code",
   "execution_count": 4,
   "id": "a8ae1fc6",
   "metadata": {},
   "outputs": [],
   "source": [
    "import pandas as pd\n",
    "import numpy as np\n",
    "import seaborn as sns\n",
    "from sklearn.preprocessing import OneHotEncoder\n",
    "from sklearn.preprocessing import MinMaxScaler\n",
    "from matplotlib import pyplot as plt"
   ]
  },
  {
   "cell_type": "code",
   "execution_count": 6,
   "id": "1186631f",
   "metadata": {},
   "outputs": [],
   "source": [
    "data = pd.read_csv(\"C:/Users/anikr/Desktop/Machine_Learning/Datasets/loan-train.csv\")\n",
    "data2 = pd.read_csv(\"C:/Users/anikr/Desktop/Machine_Learning/Datasets/loan-test.csv\")"
   ]
  },
  {
   "cell_type": "code",
   "execution_count": 7,
   "id": "3aabd0e0",
   "metadata": {},
   "outputs": [],
   "source": [
    "#Understainding the data"
   ]
  },
  {
   "cell_type": "code",
   "execution_count": 8,
   "id": "627bd90b",
   "metadata": {
    "scrolled": true
   },
   "outputs": [
    {
     "data": {
      "text/html": [
       "<div>\n",
       "<style scoped>\n",
       "    .dataframe tbody tr th:only-of-type {\n",
       "        vertical-align: middle;\n",
       "    }\n",
       "\n",
       "    .dataframe tbody tr th {\n",
       "        vertical-align: top;\n",
       "    }\n",
       "\n",
       "    .dataframe thead th {\n",
       "        text-align: right;\n",
       "    }\n",
       "</style>\n",
       "<table border=\"1\" class=\"dataframe\">\n",
       "  <thead>\n",
       "    <tr style=\"text-align: right;\">\n",
       "      <th></th>\n",
       "      <th>Loan_ID</th>\n",
       "      <th>Gender</th>\n",
       "      <th>Married</th>\n",
       "      <th>Dependents</th>\n",
       "      <th>Education</th>\n",
       "      <th>Self_Employed</th>\n",
       "      <th>ApplicantIncome</th>\n",
       "      <th>CoapplicantIncome</th>\n",
       "      <th>LoanAmount</th>\n",
       "      <th>Loan_Amount_Term</th>\n",
       "      <th>Credit_History</th>\n",
       "      <th>Property_Area</th>\n",
       "      <th>Loan_Status</th>\n",
       "    </tr>\n",
       "  </thead>\n",
       "  <tbody>\n",
       "    <tr>\n",
       "      <th>0</th>\n",
       "      <td>LP001350</td>\n",
       "      <td>Male</td>\n",
       "      <td>Yes</td>\n",
       "      <td>NaN</td>\n",
       "      <td>Graduate</td>\n",
       "      <td>No</td>\n",
       "      <td>17063</td>\n",
       "      <td>0</td>\n",
       "      <td>221.426768</td>\n",
       "      <td>360.0</td>\n",
       "      <td>1.0</td>\n",
       "      <td>Urban</td>\n",
       "      <td>Y</td>\n",
       "    </tr>\n",
       "    <tr>\n",
       "      <th>1</th>\n",
       "      <td>LP001213</td>\n",
       "      <td>Male</td>\n",
       "      <td>Yes</td>\n",
       "      <td>1</td>\n",
       "      <td>Graduate</td>\n",
       "      <td>No</td>\n",
       "      <td>6181</td>\n",
       "      <td>0</td>\n",
       "      <td>221.426768</td>\n",
       "      <td>360.0</td>\n",
       "      <td>0.0</td>\n",
       "      <td>Rural</td>\n",
       "      <td>N</td>\n",
       "    </tr>\n",
       "    <tr>\n",
       "      <th>2</th>\n",
       "      <td>LP002401</td>\n",
       "      <td>Male</td>\n",
       "      <td>Yes</td>\n",
       "      <td>0</td>\n",
       "      <td>Graduate</td>\n",
       "      <td>No</td>\n",
       "      <td>2766</td>\n",
       "      <td>1406</td>\n",
       "      <td>221.426768</td>\n",
       "      <td>360.0</td>\n",
       "      <td>1.0</td>\n",
       "      <td>Urban</td>\n",
       "      <td>Y</td>\n",
       "    </tr>\n",
       "    <tr>\n",
       "      <th>3</th>\n",
       "      <td>LP002697</td>\n",
       "      <td>Male</td>\n",
       "      <td>No</td>\n",
       "      <td>0</td>\n",
       "      <td>Graduate</td>\n",
       "      <td>No</td>\n",
       "      <td>5850</td>\n",
       "      <td>2609</td>\n",
       "      <td>221.426768</td>\n",
       "      <td>360.0</td>\n",
       "      <td>1.0</td>\n",
       "      <td>Semiurban</td>\n",
       "      <td>N</td>\n",
       "    </tr>\n",
       "    <tr>\n",
       "      <th>4</th>\n",
       "      <td>LP002533</td>\n",
       "      <td>Male</td>\n",
       "      <td>Yes</td>\n",
       "      <td>2</td>\n",
       "      <td>Graduate</td>\n",
       "      <td>No</td>\n",
       "      <td>3684</td>\n",
       "      <td>2004</td>\n",
       "      <td>221.426768</td>\n",
       "      <td>360.0</td>\n",
       "      <td>1.0</td>\n",
       "      <td>Urban</td>\n",
       "      <td>N</td>\n",
       "    </tr>\n",
       "  </tbody>\n",
       "</table>\n",
       "</div>"
      ],
      "text/plain": [
       "    Loan_ID Gender Married Dependents Education Self_Employed  \\\n",
       "0  LP001350   Male     Yes        NaN  Graduate            No   \n",
       "1  LP001213   Male     Yes          1  Graduate            No   \n",
       "2  LP002401   Male     Yes          0  Graduate            No   \n",
       "3  LP002697   Male      No          0  Graduate            No   \n",
       "4  LP002533   Male     Yes          2  Graduate            No   \n",
       "\n",
       "   ApplicantIncome  CoapplicantIncome  LoanAmount  Loan_Amount_Term  \\\n",
       "0            17063                  0  221.426768             360.0   \n",
       "1             6181                  0  221.426768             360.0   \n",
       "2             2766               1406  221.426768             360.0   \n",
       "3             5850               2609  221.426768             360.0   \n",
       "4             3684               2004  221.426768             360.0   \n",
       "\n",
       "   Credit_History Property_Area Loan_Status  \n",
       "0             1.0         Urban           Y  \n",
       "1             0.0         Rural           N  \n",
       "2             1.0         Urban           Y  \n",
       "3             1.0     Semiurban           N  \n",
       "4             1.0         Urban           N  "
      ]
     },
     "execution_count": 8,
     "metadata": {},
     "output_type": "execute_result"
    }
   ],
   "source": [
    "data.head()"
   ]
  },
  {
   "cell_type": "code",
   "execution_count": 9,
   "id": "a3dc6a63",
   "metadata": {},
   "outputs": [
    {
     "data": {
      "text/html": [
       "<div>\n",
       "<style scoped>\n",
       "    .dataframe tbody tr th:only-of-type {\n",
       "        vertical-align: middle;\n",
       "    }\n",
       "\n",
       "    .dataframe tbody tr th {\n",
       "        vertical-align: top;\n",
       "    }\n",
       "\n",
       "    .dataframe thead th {\n",
       "        text-align: right;\n",
       "    }\n",
       "</style>\n",
       "<table border=\"1\" class=\"dataframe\">\n",
       "  <thead>\n",
       "    <tr style=\"text-align: right;\">\n",
       "      <th></th>\n",
       "      <th>Loan_ID</th>\n",
       "      <th>Gender</th>\n",
       "      <th>Married</th>\n",
       "      <th>Dependents</th>\n",
       "      <th>Education</th>\n",
       "      <th>Self_Employed</th>\n",
       "      <th>ApplicantIncome</th>\n",
       "      <th>CoapplicantIncome</th>\n",
       "      <th>LoanAmount</th>\n",
       "      <th>Loan_Amount_Term</th>\n",
       "      <th>Credit_History</th>\n",
       "      <th>Property_Area</th>\n",
       "      <th>Loan_Status</th>\n",
       "    </tr>\n",
       "  </thead>\n",
       "  <tbody>\n",
       "    <tr>\n",
       "      <th>809</th>\n",
       "      <td>LP002191</td>\n",
       "      <td>Male</td>\n",
       "      <td>Yes</td>\n",
       "      <td>0</td>\n",
       "      <td>Graduate</td>\n",
       "      <td>No</td>\n",
       "      <td>24663</td>\n",
       "      <td>6583</td>\n",
       "      <td>713.0</td>\n",
       "      <td>360.0</td>\n",
       "      <td>1.0</td>\n",
       "      <td>Rural</td>\n",
       "      <td>N</td>\n",
       "    </tr>\n",
       "    <tr>\n",
       "      <th>810</th>\n",
       "      <td>LP001536</td>\n",
       "      <td>Male</td>\n",
       "      <td>Yes</td>\n",
       "      <td>3+</td>\n",
       "      <td>Graduate</td>\n",
       "      <td>No</td>\n",
       "      <td>49999</td>\n",
       "      <td>0</td>\n",
       "      <td>750.0</td>\n",
       "      <td>180.0</td>\n",
       "      <td>0.0</td>\n",
       "      <td>Semiurban</td>\n",
       "      <td>Y</td>\n",
       "    </tr>\n",
       "    <tr>\n",
       "      <th>811</th>\n",
       "      <td>LP002813</td>\n",
       "      <td>Female</td>\n",
       "      <td>Yes</td>\n",
       "      <td>1</td>\n",
       "      <td>Graduate</td>\n",
       "      <td>Yes</td>\n",
       "      <td>24355</td>\n",
       "      <td>0</td>\n",
       "      <td>750.0</td>\n",
       "      <td>360.0</td>\n",
       "      <td>1.0</td>\n",
       "      <td>Semiurban</td>\n",
       "      <td>Y</td>\n",
       "    </tr>\n",
       "    <tr>\n",
       "      <th>812</th>\n",
       "      <td>LP001469</td>\n",
       "      <td>Male</td>\n",
       "      <td>No</td>\n",
       "      <td>0</td>\n",
       "      <td>Graduate</td>\n",
       "      <td>Yes</td>\n",
       "      <td>25208</td>\n",
       "      <td>0</td>\n",
       "      <td>813.0</td>\n",
       "      <td>480.0</td>\n",
       "      <td>NaN</td>\n",
       "      <td>Urban</td>\n",
       "      <td>Y</td>\n",
       "    </tr>\n",
       "    <tr>\n",
       "      <th>813</th>\n",
       "      <td>LP001585</td>\n",
       "      <td>NaN</td>\n",
       "      <td>Yes</td>\n",
       "      <td>3+</td>\n",
       "      <td>Graduate</td>\n",
       "      <td>No</td>\n",
       "      <td>64704</td>\n",
       "      <td>0</td>\n",
       "      <td>875.0</td>\n",
       "      <td>300.0</td>\n",
       "      <td>1.0</td>\n",
       "      <td>Urban</td>\n",
       "      <td>Y</td>\n",
       "    </tr>\n",
       "  </tbody>\n",
       "</table>\n",
       "</div>"
      ],
      "text/plain": [
       "      Loan_ID  Gender Married Dependents Education Self_Employed  \\\n",
       "809  LP002191    Male     Yes          0  Graduate            No   \n",
       "810  LP001536    Male     Yes         3+  Graduate            No   \n",
       "811  LP002813  Female     Yes          1  Graduate           Yes   \n",
       "812  LP001469    Male      No          0  Graduate           Yes   \n",
       "813  LP001585     NaN     Yes         3+  Graduate            No   \n",
       "\n",
       "     ApplicantIncome  CoapplicantIncome  LoanAmount  Loan_Amount_Term  \\\n",
       "809            24663               6583       713.0             360.0   \n",
       "810            49999                  0       750.0             180.0   \n",
       "811            24355                  0       750.0             360.0   \n",
       "812            25208                  0       813.0             480.0   \n",
       "813            64704                  0       875.0             300.0   \n",
       "\n",
       "     Credit_History Property_Area Loan_Status  \n",
       "809             1.0         Rural           N  \n",
       "810             0.0     Semiurban           Y  \n",
       "811             1.0     Semiurban           Y  \n",
       "812             NaN         Urban           Y  \n",
       "813             1.0         Urban           Y  "
      ]
     },
     "execution_count": 9,
     "metadata": {},
     "output_type": "execute_result"
    }
   ],
   "source": [
    "data.tail() #last 5 data sets"
   ]
  },
  {
   "cell_type": "code",
   "execution_count": 10,
   "id": "4d9d6717",
   "metadata": {},
   "outputs": [
    {
     "data": {
      "text/plain": [
       "(814, 13)"
      ]
     },
     "execution_count": 10,
     "metadata": {},
     "output_type": "execute_result"
    }
   ],
   "source": [
    "data.shape #rows and column"
   ]
  },
  {
   "cell_type": "code",
   "execution_count": 11,
   "id": "42c1a047",
   "metadata": {},
   "outputs": [
    {
     "data": {
      "text/html": [
       "<div>\n",
       "<style scoped>\n",
       "    .dataframe tbody tr th:only-of-type {\n",
       "        vertical-align: middle;\n",
       "    }\n",
       "\n",
       "    .dataframe tbody tr th {\n",
       "        vertical-align: top;\n",
       "    }\n",
       "\n",
       "    .dataframe thead th {\n",
       "        text-align: right;\n",
       "    }\n",
       "</style>\n",
       "<table border=\"1\" class=\"dataframe\">\n",
       "  <thead>\n",
       "    <tr style=\"text-align: right;\">\n",
       "      <th></th>\n",
       "      <th>ApplicantIncome</th>\n",
       "      <th>CoapplicantIncome</th>\n",
       "      <th>LoanAmount</th>\n",
       "      <th>Loan_Amount_Term</th>\n",
       "      <th>Credit_History</th>\n",
       "    </tr>\n",
       "  </thead>\n",
       "  <tbody>\n",
       "    <tr>\n",
       "      <th>count</th>\n",
       "      <td>814.000000</td>\n",
       "      <td>814.000000</td>\n",
       "      <td>809.000000</td>\n",
       "      <td>800.000000</td>\n",
       "      <td>764.000000</td>\n",
       "    </tr>\n",
       "    <tr>\n",
       "      <th>mean</th>\n",
       "      <td>8468.918919</td>\n",
       "      <td>2607.565111</td>\n",
       "      <td>222.120382</td>\n",
       "      <td>315.075000</td>\n",
       "      <td>0.739529</td>\n",
       "    </tr>\n",
       "    <tr>\n",
       "      <th>std</th>\n",
       "      <td>7986.949645</td>\n",
       "      <td>3836.744926</td>\n",
       "      <td>133.833480</td>\n",
       "      <td>88.545156</td>\n",
       "      <td>0.439179</td>\n",
       "    </tr>\n",
       "    <tr>\n",
       "      <th>min</th>\n",
       "      <td>188.000000</td>\n",
       "      <td>0.000000</td>\n",
       "      <td>11.000000</td>\n",
       "      <td>12.000000</td>\n",
       "      <td>0.000000</td>\n",
       "    </tr>\n",
       "    <tr>\n",
       "      <th>25%</th>\n",
       "      <td>3843.250000</td>\n",
       "      <td>0.000000</td>\n",
       "      <td>138.000000</td>\n",
       "      <td>300.000000</td>\n",
       "      <td>0.000000</td>\n",
       "    </tr>\n",
       "    <tr>\n",
       "      <th>50%</th>\n",
       "      <td>5718.500000</td>\n",
       "      <td>1880.000000</td>\n",
       "      <td>179.000000</td>\n",
       "      <td>360.000000</td>\n",
       "      <td>1.000000</td>\n",
       "    </tr>\n",
       "    <tr>\n",
       "      <th>75%</th>\n",
       "      <td>10417.500000</td>\n",
       "      <td>3791.000000</td>\n",
       "      <td>261.000000</td>\n",
       "      <td>360.000000</td>\n",
       "      <td>1.000000</td>\n",
       "    </tr>\n",
       "    <tr>\n",
       "      <th>max</th>\n",
       "      <td>101250.000000</td>\n",
       "      <td>52084.000000</td>\n",
       "      <td>875.000000</td>\n",
       "      <td>480.000000</td>\n",
       "      <td>1.000000</td>\n",
       "    </tr>\n",
       "  </tbody>\n",
       "</table>\n",
       "</div>"
      ],
      "text/plain": [
       "       ApplicantIncome  CoapplicantIncome  LoanAmount  Loan_Amount_Term  \\\n",
       "count       814.000000         814.000000  809.000000        800.000000   \n",
       "mean       8468.918919        2607.565111  222.120382        315.075000   \n",
       "std        7986.949645        3836.744926  133.833480         88.545156   \n",
       "min         188.000000           0.000000   11.000000         12.000000   \n",
       "25%        3843.250000           0.000000  138.000000        300.000000   \n",
       "50%        5718.500000        1880.000000  179.000000        360.000000   \n",
       "75%       10417.500000        3791.000000  261.000000        360.000000   \n",
       "max      101250.000000       52084.000000  875.000000        480.000000   \n",
       "\n",
       "       Credit_History  \n",
       "count      764.000000  \n",
       "mean         0.739529  \n",
       "std          0.439179  \n",
       "min          0.000000  \n",
       "25%          0.000000  \n",
       "50%          1.000000  \n",
       "75%          1.000000  \n",
       "max          1.000000  "
      ]
     },
     "execution_count": 11,
     "metadata": {},
     "output_type": "execute_result"
    }
   ],
   "source": [
    "data.describe()"
   ]
  },
  {
   "cell_type": "code",
   "execution_count": 12,
   "id": "f6b1341f",
   "metadata": {},
   "outputs": [
    {
     "data": {
      "text/plain": [
       "Loan_ID               0\n",
       "Gender               13\n",
       "Married               3\n",
       "Dependents           15\n",
       "Education             0\n",
       "Self_Employed        32\n",
       "ApplicantIncome       0\n",
       "CoapplicantIncome     0\n",
       "LoanAmount            5\n",
       "Loan_Amount_Term     14\n",
       "Credit_History       50\n",
       "Property_Area         0\n",
       "Loan_Status           0\n",
       "dtype: int64"
      ]
     },
     "execution_count": 12,
     "metadata": {},
     "output_type": "execute_result"
    }
   ],
   "source": [
    "data.isnull().sum()"
   ]
  },
  {
   "cell_type": "code",
   "execution_count": 13,
   "id": "cb156b7f",
   "metadata": {},
   "outputs": [
    {
     "data": {
      "text/plain": [
       "Loan_ID              0.000000\n",
       "Gender               1.597052\n",
       "Married              0.368550\n",
       "Dependents           1.842752\n",
       "Education            0.000000\n",
       "Self_Employed        3.931204\n",
       "ApplicantIncome      0.000000\n",
       "CoapplicantIncome    0.000000\n",
       "LoanAmount           0.614251\n",
       "Loan_Amount_Term     1.719902\n",
       "Credit_History       6.142506\n",
       "Property_Area        0.000000\n",
       "Loan_Status          0.000000\n",
       "dtype: float64"
      ]
     },
     "execution_count": 13,
     "metadata": {},
     "output_type": "execute_result"
    }
   ],
   "source": [
    "#Checked missing percentage\n",
    "data.isnull().sum() * 100/len(data) "
   ]
  },
  {
   "cell_type": "code",
   "execution_count": 14,
   "id": "c49a73ea",
   "metadata": {},
   "outputs": [
    {
     "data": {
      "text/plain": [
       "Loan_ID              814\n",
       "Gender                 2\n",
       "Married                2\n",
       "Dependents             4\n",
       "Education              2\n",
       "Self_Employed          2\n",
       "ApplicantIncome      697\n",
       "CoapplicantIncome    417\n",
       "LoanAmount           303\n",
       "Loan_Amount_Term      10\n",
       "Credit_History         2\n",
       "Property_Area          3\n",
       "Loan_Status            2\n",
       "dtype: int64"
      ]
     },
     "execution_count": 14,
     "metadata": {},
     "output_type": "execute_result"
    }
   ],
   "source": [
    "data.nunique()"
   ]
  },
  {
   "cell_type": "code",
   "execution_count": 15,
   "id": "e40fdb97",
   "metadata": {},
   "outputs": [
    {
     "name": "stdout",
     "output_type": "stream",
     "text": [
      "<class 'pandas.core.frame.DataFrame'>\n",
      "RangeIndex: 814 entries, 0 to 813\n",
      "Data columns (total 13 columns):\n",
      " #   Column             Non-Null Count  Dtype  \n",
      "---  ------             --------------  -----  \n",
      " 0   Loan_ID            814 non-null    object \n",
      " 1   Gender             801 non-null    object \n",
      " 2   Married            811 non-null    object \n",
      " 3   Dependents         799 non-null    object \n",
      " 4   Education          814 non-null    object \n",
      " 5   Self_Employed      782 non-null    object \n",
      " 6   ApplicantIncome    814 non-null    int64  \n",
      " 7   CoapplicantIncome  814 non-null    int64  \n",
      " 8   LoanAmount         809 non-null    float64\n",
      " 9   Loan_Amount_Term   800 non-null    float64\n",
      " 10  Credit_History     764 non-null    float64\n",
      " 11  Property_Area      814 non-null    object \n",
      " 12  Loan_Status        814 non-null    object \n",
      "dtypes: float64(3), int64(2), object(8)\n",
      "memory usage: 82.8+ KB\n"
     ]
    }
   ],
   "source": [
    "data.info()"
   ]
  },
  {
   "cell_type": "code",
   "execution_count": 16,
   "id": "56e640a5",
   "metadata": {},
   "outputs": [],
   "source": [
    "#Individual Histogram for the numerical features ( 3 plots )"
   ]
  },
  {
   "cell_type": "code",
   "execution_count": 17,
   "id": "16bd51f1",
   "metadata": {},
   "outputs": [
    {
     "data": {
      "text/plain": [
       "<AxesSubplot: xlabel='ApplicantIncome', ylabel='Count'>"
      ]
     },
     "execution_count": 17,
     "metadata": {},
     "output_type": "execute_result"
    },
    {
     "data": {
      "image/png": "[encoded data removed]",
      "text/plain": [
       "<Figure size 640x480 with 1 Axes>"
      ]
     },
     "metadata": {},
     "output_type": "display_data"
    }
   ],
   "source": [
    "sns.histplot(data,x='ApplicantIncome')"
   ]
  },
  {
   "cell_type": "code",
   "execution_count": 18,
   "id": "2bb4c9f8",
   "metadata": {},
   "outputs": [
    {
     "data": {
      "text/plain": [
       "<AxesSubplot: xlabel='CoapplicantIncome', ylabel='Count'>"
      ]
     },
     "execution_count": 18,
     "metadata": {},
     "output_type": "execute_result"
    },
    {
     "data": {
      "image/png": "[encoded data removed]",
      "text/plain": [
       "<Figure size 640x480 with 1 Axes>"
      ]
     },
     "metadata": {},
     "output_type": "display_data"
    }
   ],
   "source": [
    "sns.histplot(data,x='CoapplicantIncome')"
   ]
  },
  {
   "cell_type": "code",
   "execution_count": 19,
   "id": "fab668a6",
   "metadata": {},
   "outputs": [
    {
     "data": {
      "text/plain": [
       "<AxesSubplot: xlabel='LoanAmount', ylabel='Count'>"
      ]
     },
     "execution_count": 19,
     "metadata": {},
     "output_type": "execute_result"
    },
    {
     "data": {
      "image/png": "[encoded data removed]",
      "text/plain": [
       "<Figure size 640x480 with 1 Axes>"
      ]
     },
     "metadata": {},
     "output_type": "display_data"
    }
   ],
   "source": [
    "sns.histplot(data,x='LoanAmount')"
   ]
  },
  {
   "cell_type": "code",
   "execution_count": 20,
   "id": "38908023",
   "metadata": {},
   "outputs": [],
   "source": [
    "#Individual Bar Chart for the categorical features  ( 6 plots )"
   ]
  },
  {
   "cell_type": "code",
   "execution_count": 21,
   "id": "a860b52e",
   "metadata": {},
   "outputs": [
    {
     "data": {
      "text/plain": [
       "<AxesSubplot: xlabel='Loan_Status', ylabel='count'>"
      ]
     },
     "execution_count": 21,
     "metadata": {},
     "output_type": "execute_result"
    },
    {
     "data": {
      "image/png": "[encoded data removed]",
      "text/plain": [
       "<Figure size 640x480 with 1 Axes>"
      ]
     },
     "metadata": {},
     "output_type": "display_data"
    }
   ],
   "source": [
    "sns.countplot(x=\"Loan_Status\",data=data)"
   ]
  },
  {
   "cell_type": "code",
   "execution_count": 22,
   "id": "8802788e",
   "metadata": {},
   "outputs": [
    {
     "data": {
      "text/plain": [
       "<AxesSubplot: xlabel='Married', ylabel='count'>"
      ]
     },
     "execution_count": 22,
     "metadata": {},
     "output_type": "execute_result"
    },
    {
     "data": {
      "image/png": "[encoded data removed]",
      "text/plain": [
       "<Figure size 640x480 with 1 Axes>"
      ]
     },
     "metadata": {},
     "output_type": "display_data"
    }
   ],
   "source": [
    "sns.countplot(x=\"Married\",data=data)"
   ]
  },
  {
   "cell_type": "code",
   "execution_count": 23,
   "id": "91d29a2c",
   "metadata": {},
   "outputs": [
    {
     "data": {
      "text/plain": [
       "<AxesSubplot: xlabel='Education', ylabel='count'>"
      ]
     },
     "execution_count": 23,
     "metadata": {},
     "output_type": "execute_result"
    },
    {
     "data": {
      "image/png": "[encoded data removed]",
      "text/plain": [
       "<Figure size 640x480 with 1 Axes>"
      ]
     },
     "metadata": {},
     "output_type": "display_data"
    }
   ],
   "source": [
    "sns.countplot(x=\"Education\",data=data)"
   ]
  },
  {
   "cell_type": "code",
   "execution_count": 24,
   "id": "7ac3608f",
   "metadata": {},
   "outputs": [
    {
     "data": {
      "text/plain": [
       "<AxesSubplot: xlabel='Self_Employed', ylabel='count'>"
      ]
     },
     "execution_count": 24,
     "metadata": {},
     "output_type": "execute_result"
    },
    {
     "data": {
      "image/png": "[encoded data removed]",
      "text/plain": [
       "<Figure size 640x480 with 1 Axes>"
      ]
     },
     "metadata": {},
     "output_type": "display_data"
    }
   ],
   "source": [
    "sns.countplot(x=\"Self_Employed\",data=data)"
   ]
  },
  {
   "cell_type": "code",
   "execution_count": 25,
   "id": "afd18e6d",
   "metadata": {},
   "outputs": [
    {
     "data": {
      "text/plain": [
       "<AxesSubplot: xlabel='Property_Area', ylabel='count'>"
      ]
     },
     "execution_count": 25,
     "metadata": {},
     "output_type": "execute_result"
    },
    {
     "data": {
      "image/png": "[encoded data removed]",
      "text/plain": [
       "<Figure size 640x480 with 1 Axes>"
      ]
     },
     "metadata": {},
     "output_type": "display_data"
    }
   ],
   "source": [
    "sns.countplot(x=\"Property_Area\",data=data)"
   ]
  },
  {
   "cell_type": "code",
   "execution_count": 26,
   "id": "d9eb4139",
   "metadata": {},
   "outputs": [
    {
     "data": {
      "text/plain": [
       "<AxesSubplot: xlabel='Dependents', ylabel='count'>"
      ]
     },
     "execution_count": 26,
     "metadata": {},
     "output_type": "execute_result"
    },
    {
     "data": {
      "image/png": "[encoded data removed]",
      "text/plain": [
       "<Figure size 640x480 with 1 Axes>"
      ]
     },
     "metadata": {},
     "output_type": "display_data"
    }
   ],
   "source": [
    "sns.countplot(x=\"Dependents\",data=data)"
   ]
  },
  {
   "cell_type": "code",
   "execution_count": 27,
   "id": "131f756e",
   "metadata": {},
   "outputs": [],
   "source": [
    "#Bar plot for Categorical vs categorical  ( 6 plots )"
   ]
  },
  {
   "cell_type": "code",
   "execution_count": 28,
   "id": "0efc61d3",
   "metadata": {},
   "outputs": [
    {
     "data": {
      "text/plain": [
       "<seaborn.axisgrid.FacetGrid at 0x14c238d6af0>"
      ]
     },
     "execution_count": 28,
     "metadata": {},
     "output_type": "execute_result"
    },
    {
     "data": {
      "image/png": "[encoded data removed]",
      "text/plain": [
       "<Figure size 1000x500 with 2 Axes>"
      ]
     },
     "metadata": {},
     "output_type": "display_data"
    }
   ],
   "source": [
    "sns.catplot(x=\"Gender\",col = \"Loan_Status\",kind = \"count\",data = data)"
   ]
  },
  {
   "cell_type": "code",
   "execution_count": 29,
   "id": "a84bf7ac",
   "metadata": {
    "scrolled": true
   },
   "outputs": [
    {
     "data": {
      "text/plain": [
       "<seaborn.axisgrid.FacetGrid at 0x14c23e0bbe0>"
      ]
     },
     "execution_count": 29,
     "metadata": {},
     "output_type": "execute_result"
    },
    {
     "data": {
      "image/png": "[encoded data removed]",
      "text/plain": [
       "<Figure size 1000x500 with 2 Axes>"
      ]
     },
     "metadata": {},
     "output_type": "display_data"
    }
   ],
   "source": [
    "sns.catplot(x=\"Married\",col = \"Loan_Status\",kind = \"count\",data = data)"
   ]
  },
  {
   "cell_type": "code",
   "execution_count": 30,
   "id": "1690c46d",
   "metadata": {},
   "outputs": [
    {
     "data": {
      "text/plain": [
       "<seaborn.axisgrid.FacetGrid at 0x14c242cad90>"
      ]
     },
     "execution_count": 30,
     "metadata": {},
     "output_type": "execute_result"
    },
    {
     "data": {
      "image/png": "[encoded data removed]",
      "text/plain": [
       "<Figure size 1000x500 with 2 Axes>"
      ]
     },
     "metadata": {},
     "output_type": "display_data"
    }
   ],
   "source": [
    "sns.catplot(x=\"Education\",col = \"Loan_Status\",kind = \"count\",data = data)"
   ]
  },
  {
   "cell_type": "code",
   "execution_count": 31,
   "id": "3a354619",
   "metadata": {},
   "outputs": [
    {
     "data": {
      "text/plain": [
       "<seaborn.axisgrid.FacetGrid at 0x14c242e5d00>"
      ]
     },
     "execution_count": 31,
     "metadata": {},
     "output_type": "execute_result"
    },
    {
     "data": {
      "image/png": "[encoded data removed]",
      "text/plain": [
       "<Figure size 1000x500 with 2 Axes>"
      ]
     },
     "metadata": {},
     "output_type": "display_data"
    }
   ],
   "source": [
    "sns.catplot(x=\"Self_Employed\",col = \"Loan_Status\",kind = \"count\",data = data)"
   ]
  },
  {
   "cell_type": "code",
   "execution_count": 32,
   "id": "5eb12e4e",
   "metadata": {},
   "outputs": [
    {
     "data": {
      "text/plain": [
       "<seaborn.axisgrid.FacetGrid at 0x14c24796d00>"
      ]
     },
     "execution_count": 32,
     "metadata": {},
     "output_type": "execute_result"
    },
    {
     "data": {
      "image/png": "[encoded data removed]",
      "text/plain": [
       "<Figure size 1000x500 with 2 Axes>"
      ]
     },
     "metadata": {},
     "output_type": "display_data"
    }
   ],
   "source": [
    "sns.catplot(x=\"Property_Area\",col = \"Loan_Status\",kind = \"count\",data = data)"
   ]
  },
  {
   "cell_type": "code",
   "execution_count": 33,
   "id": "b4922cec",
   "metadata": {},
   "outputs": [
    {
     "data": {
      "text/plain": [
       "<seaborn.axisgrid.FacetGrid at 0x14c24ee0a90>"
      ]
     },
     "execution_count": 33,
     "metadata": {},
     "output_type": "execute_result"
    },
    {
     "data": {
      "image/png": "[encoded data removed]",
      "text/plain": [
       "<Figure size 1000x500 with 2 Axes>"
      ]
     },
     "metadata": {},
     "output_type": "display_data"
    }
   ],
   "source": [
    "sns.catplot(x=\"Loan_Amount_Term\",col = \"Loan_Status\",kind = \"count\",data = data)"
   ]
  },
  {
   "cell_type": "code",
   "execution_count": 34,
   "id": "07140446",
   "metadata": {},
   "outputs": [],
   "source": [
    "#Categorical vs Numerical ( with different colors ) ( 3 plots )"
   ]
  },
  {
   "cell_type": "code",
   "execution_count": 35,
   "id": "714b9aa4",
   "metadata": {},
   "outputs": [
    {
     "data": {
      "text/plain": [
       "<AxesSubplot: xlabel='Gender', ylabel='ApplicantIncome'>"
      ]
     },
     "execution_count": 35,
     "metadata": {},
     "output_type": "execute_result"
    },
    {
     "data": {
      "image/png": "[encoded data removed]",
      "text/plain": [
       "<Figure size 640x480 with 1 Axes>"
      ]
     },
     "metadata": {},
     "output_type": "display_data"
    }
   ],
   "source": [
    "sns.barplot(x=\"Gender\", y=\"ApplicantIncome\",data=data)"
   ]
  },
  {
   "cell_type": "code",
   "execution_count": 36,
   "id": "458f7f5d",
   "metadata": {},
   "outputs": [
    {
     "data": {
      "text/plain": [
       "<AxesSubplot: xlabel='Education', ylabel='LoanAmount'>"
      ]
     },
     "execution_count": 36,
     "metadata": {},
     "output_type": "execute_result"
    },
    {
     "data": {
      "image/png": "[encoded data removed]",
      "text/plain": [
       "<Figure size 640x480 with 1 Axes>"
      ]
     },
     "metadata": {},
     "output_type": "display_data"
    }
   ],
   "source": [
    "sns.barplot(x=\"Education\", y=\"LoanAmount\", data=data)"
   ]
  },
  {
   "cell_type": "code",
   "execution_count": 37,
   "id": "e96921b7",
   "metadata": {},
   "outputs": [
    {
     "data": {
      "text/plain": [
       "<AxesSubplot: xlabel='Self_Employed', ylabel='ApplicantIncome'>"
      ]
     },
     "execution_count": 37,
     "metadata": {},
     "output_type": "execute_result"
    },
    {
     "data": {
      "image/png": "[encoded data removed]",
      "text/plain": [
       "<Figure size 640x480 with 1 Axes>"
      ]
     },
     "metadata": {},
     "output_type": "display_data"
    }
   ],
   "source": [
    "sns.barplot(x=\"Self_Employed\", y=\"ApplicantIncome\", data=data)"
   ]
  },
  {
   "cell_type": "code",
   "execution_count": 38,
   "id": "4a67f691",
   "metadata": {},
   "outputs": [],
   "source": [
    "#Numerical vs Numerical pairplot ( 3 plots ) "
   ]
  },
  {
   "cell_type": "code",
   "execution_count": 39,
   "id": "d40452e0",
   "metadata": {},
   "outputs": [
    {
     "data": {
      "text/plain": [
       "Loan_ID               object\n",
       "Gender                object\n",
       "Married               object\n",
       "Dependents            object\n",
       "Education             object\n",
       "Self_Employed         object\n",
       "ApplicantIncome        int64\n",
       "CoapplicantIncome      int64\n",
       "LoanAmount           float64\n",
       "Loan_Amount_Term     float64\n",
       "Credit_History       float64\n",
       "Property_Area         object\n",
       "Loan_Status           object\n",
       "dtype: object"
      ]
     },
     "execution_count": 39,
     "metadata": {},
     "output_type": "execute_result"
    }
   ],
   "source": [
    "data.dtypes"
   ]
  },
  {
   "cell_type": "code",
   "execution_count": 40,
   "id": "e3250703",
   "metadata": {
    "scrolled": true
   },
   "outputs": [
    {
     "data": {
      "text/plain": [
       "<seaborn.axisgrid.PairGrid at 0x14c254339a0>"
      ]
     },
     "execution_count": 40,
     "metadata": {},
     "output_type": "execute_result"
    },
    {
     "data": {
      "image/png": "[encoded data removed]",
      "text/plain": [
       "<Figure size 1250x1250 with 30 Axes>"
      ]
     },
     "metadata": {},
     "output_type": "display_data"
    }
   ],
   "source": [
    "sns.pairplot(data)"
   ]
  },
  {
   "cell_type": "code",
   "execution_count": 41,
   "id": "0c96a444",
   "metadata": {},
   "outputs": [
    {
     "data": {
      "text/plain": [
       "<AxesSubplot: xlabel='ApplicantIncome', ylabel='CoapplicantIncome'>"
      ]
     },
     "execution_count": 41,
     "metadata": {},
     "output_type": "execute_result"
    },
    {
     "data": {
      "image/png": "[encoded data removed]",
      "text/plain": [
       "<Figure size 640x480 with 1 Axes>"
      ]
     },
     "metadata": {},
     "output_type": "display_data"
    }
   ],
   "source": [
    "sns.barplot(x=\"ApplicantIncome\", y=\"CoapplicantIncome\", data=data)"
   ]
  },
  {
   "cell_type": "code",
   "execution_count": 42,
   "id": "89217415",
   "metadata": {},
   "outputs": [],
   "source": [
    "#Missing data handling "
   ]
  },
  {
   "cell_type": "code",
   "execution_count": 43,
   "id": "bae17894",
   "metadata": {},
   "outputs": [
    {
     "data": {
      "text/plain": [
       "Loan_ID               0\n",
       "Gender               13\n",
       "Married               3\n",
       "Dependents           15\n",
       "Education             0\n",
       "Self_Employed        32\n",
       "ApplicantIncome       0\n",
       "CoapplicantIncome     0\n",
       "LoanAmount            5\n",
       "Loan_Amount_Term     14\n",
       "Credit_History       50\n",
       "Property_Area         0\n",
       "Loan_Status           0\n",
       "dtype: int64"
      ]
     },
     "execution_count": 43,
     "metadata": {},
     "output_type": "execute_result"
    }
   ],
   "source": [
    "data.isnull().sum()"
   ]
  },
  {
   "cell_type": "code",
   "execution_count": 44,
   "id": "6ee3f2f9",
   "metadata": {},
   "outputs": [
    {
     "data": {
      "text/plain": [
       "Loan_ID               0\n",
       "Gender               13\n",
       "Married               3\n",
       "Dependents           15\n",
       "Education             0\n",
       "Self_Employed        32\n",
       "ApplicantIncome       0\n",
       "CoapplicantIncome     0\n",
       "LoanAmount            5\n",
       "Loan_Amount_Term     14\n",
       "Credit_History       50\n",
       "Property_Area         0\n",
       "Loan_Status           0\n",
       "dtype: int64"
      ]
     },
     "execution_count": 44,
     "metadata": {},
     "output_type": "execute_result"
    }
   ],
   "source": [
    "#Checked missing percentage\n",
    "data.isnull().sum() #train\n"
   ]
  },
  {
   "cell_type": "code",
   "execution_count": 45,
   "id": "935949b5",
   "metadata": {},
   "outputs": [
    {
     "data": {
      "text/plain": [
       "Loan_ID               0\n",
       "Gender               11\n",
       "Married               0\n",
       "Dependents           10\n",
       "Education             0\n",
       "Self_Employed        23\n",
       "ApplicantIncome       0\n",
       "CoapplicantIncome     0\n",
       "LoanAmount            0\n",
       "Loan_Amount_Term      6\n",
       "Credit_History       29\n",
       "Property_Area         0\n",
       "dtype: int64"
      ]
     },
     "execution_count": 45,
     "metadata": {},
     "output_type": "execute_result"
    }
   ],
   "source": [
    "data2.isnull().sum() #test"
   ]
  },
  {
   "cell_type": "code",
   "execution_count": 46,
   "id": "44d44fee",
   "metadata": {},
   "outputs": [
    {
     "data": {
      "text/plain": [
       "Loan_ID              0.000000\n",
       "Gender               1.597052\n",
       "Married              0.368550\n",
       "Dependents           1.842752\n",
       "Education            0.000000\n",
       "Self_Employed        3.931204\n",
       "ApplicantIncome      0.000000\n",
       "CoapplicantIncome    0.000000\n",
       "LoanAmount           0.614251\n",
       "Loan_Amount_Term     1.719902\n",
       "Credit_History       6.142506\n",
       "Property_Area        0.000000\n",
       "Loan_Status          0.000000\n",
       "dtype: float64"
      ]
     },
     "execution_count": 46,
     "metadata": {},
     "output_type": "execute_result"
    }
   ],
   "source": [
    "data.isnull().sum() * 100/len(data) #train"
   ]
  },
  {
   "cell_type": "code",
   "execution_count": 47,
   "id": "dcd97b0d",
   "metadata": {},
   "outputs": [],
   "source": [
    "#Numerical missing data handling\n",
    "data['LoanAmount'] = data['LoanAmount'].fillna(data['LoanAmount'].mean())\n",
    "data['Loan_Amount_Term'] = data['Loan_Amount_Term'].fillna(data['Loan_Amount_Term'].mean())\n",
    "data['Credit_History'] = data['Credit_History'].fillna(data['Credit_History'].mean())"
   ]
  },
  {
   "cell_type": "code",
   "execution_count": 48,
   "id": "97ade46f",
   "metadata": {},
   "outputs": [
    {
     "data": {
      "text/plain": [
       "Loan_ID               0\n",
       "Gender               13\n",
       "Married               3\n",
       "Dependents           15\n",
       "Education             0\n",
       "Self_Employed        32\n",
       "ApplicantIncome       0\n",
       "CoapplicantIncome     0\n",
       "LoanAmount            0\n",
       "Loan_Amount_Term      0\n",
       "Credit_History        0\n",
       "Property_Area         0\n",
       "Loan_Status           0\n",
       "dtype: int64"
      ]
     },
     "execution_count": 48,
     "metadata": {},
     "output_type": "execute_result"
    }
   ],
   "source": [
    "data.isnull().sum()"
   ]
  },
  {
   "cell_type": "code",
   "execution_count": 49,
   "id": "368fdd97",
   "metadata": {},
   "outputs": [
    {
     "data": {
      "text/plain": [
       "'Male'"
      ]
     },
     "execution_count": 49,
     "metadata": {},
     "output_type": "execute_result"
    }
   ],
   "source": [
    "#Categorical missing data handling\n",
    "data['Gender'].mode()[0]"
   ]
  },
  {
   "cell_type": "code",
   "execution_count": 50,
   "id": "e6cbf717",
   "metadata": {},
   "outputs": [],
   "source": [
    "data['Gender'] = data['Gender'].fillna(data['Gender'].mode()[0])\n",
    "data['Married'] = data['Married'].fillna(data['Married'].mode()[0])\n",
    "data['Dependents'] = data['Dependents'].fillna(data['Dependents'].mode()[0])\n",
    "data['Self_Employed'] = data['Self_Employed'].fillna(data['Self_Employed'].mode()[0])"
   ]
  },
  {
   "cell_type": "code",
   "execution_count": 51,
   "id": "98916323",
   "metadata": {},
   "outputs": [
    {
     "data": {
      "text/plain": [
       "Loan_ID              0\n",
       "Gender               0\n",
       "Married              0\n",
       "Dependents           0\n",
       "Education            0\n",
       "Self_Employed        0\n",
       "ApplicantIncome      0\n",
       "CoapplicantIncome    0\n",
       "LoanAmount           0\n",
       "Loan_Amount_Term     0\n",
       "Credit_History       0\n",
       "Property_Area        0\n",
       "Loan_Status          0\n",
       "dtype: int64"
      ]
     },
     "execution_count": 51,
     "metadata": {},
     "output_type": "execute_result"
    }
   ],
   "source": [
    "data.isnull().sum()"
   ]
  },
  {
   "cell_type": "code",
   "execution_count": 52,
   "id": "95e817cc",
   "metadata": {},
   "outputs": [
    {
     "data": {
      "text/plain": [
       "Index(['Loan_ID', 'Gender', 'Married', 'Dependents', 'Education',\n",
       "       'Self_Employed', 'ApplicantIncome', 'CoapplicantIncome', 'LoanAmount',\n",
       "       'Loan_Amount_Term', 'Credit_History', 'Property_Area', 'Loan_Status'],\n",
       "      dtype='object')"
      ]
     },
     "execution_count": 52,
     "metadata": {},
     "output_type": "execute_result"
    }
   ],
   "source": [
    "data.columns"
   ]
  },
  {
   "cell_type": "code",
   "execution_count": 53,
   "id": "a7c6df2e",
   "metadata": {},
   "outputs": [],
   "source": [
    "data['Total_income'] = data['ApplicantIncome']+data['CoapplicantIncome']"
   ]
  },
  {
   "cell_type": "code",
   "execution_count": 54,
   "id": "8551f14f",
   "metadata": {},
   "outputs": [
    {
     "data": {
      "text/html": [
       "<div>\n",
       "<style scoped>\n",
       "    .dataframe tbody tr th:only-of-type {\n",
       "        vertical-align: middle;\n",
       "    }\n",
       "\n",
       "    .dataframe tbody tr th {\n",
       "        vertical-align: top;\n",
       "    }\n",
       "\n",
       "    .dataframe thead th {\n",
       "        text-align: right;\n",
       "    }\n",
       "</style>\n",
       "<table border=\"1\" class=\"dataframe\">\n",
       "  <thead>\n",
       "    <tr style=\"text-align: right;\">\n",
       "      <th></th>\n",
       "      <th>Loan_ID</th>\n",
       "      <th>Gender</th>\n",
       "      <th>Married</th>\n",
       "      <th>Dependents</th>\n",
       "      <th>Education</th>\n",
       "      <th>Self_Employed</th>\n",
       "      <th>ApplicantIncome</th>\n",
       "      <th>CoapplicantIncome</th>\n",
       "      <th>LoanAmount</th>\n",
       "      <th>Loan_Amount_Term</th>\n",
       "      <th>Credit_History</th>\n",
       "      <th>Property_Area</th>\n",
       "      <th>Loan_Status</th>\n",
       "      <th>Total_income</th>\n",
       "    </tr>\n",
       "  </thead>\n",
       "  <tbody>\n",
       "    <tr>\n",
       "      <th>0</th>\n",
       "      <td>LP001350</td>\n",
       "      <td>Male</td>\n",
       "      <td>Yes</td>\n",
       "      <td>0</td>\n",
       "      <td>Graduate</td>\n",
       "      <td>No</td>\n",
       "      <td>17063</td>\n",
       "      <td>0</td>\n",
       "      <td>221.426768</td>\n",
       "      <td>360.0</td>\n",
       "      <td>1.0</td>\n",
       "      <td>Urban</td>\n",
       "      <td>Y</td>\n",
       "      <td>17063</td>\n",
       "    </tr>\n",
       "    <tr>\n",
       "      <th>1</th>\n",
       "      <td>LP001213</td>\n",
       "      <td>Male</td>\n",
       "      <td>Yes</td>\n",
       "      <td>1</td>\n",
       "      <td>Graduate</td>\n",
       "      <td>No</td>\n",
       "      <td>6181</td>\n",
       "      <td>0</td>\n",
       "      <td>221.426768</td>\n",
       "      <td>360.0</td>\n",
       "      <td>0.0</td>\n",
       "      <td>Rural</td>\n",
       "      <td>N</td>\n",
       "      <td>6181</td>\n",
       "    </tr>\n",
       "    <tr>\n",
       "      <th>2</th>\n",
       "      <td>LP002401</td>\n",
       "      <td>Male</td>\n",
       "      <td>Yes</td>\n",
       "      <td>0</td>\n",
       "      <td>Graduate</td>\n",
       "      <td>No</td>\n",
       "      <td>2766</td>\n",
       "      <td>1406</td>\n",
       "      <td>221.426768</td>\n",
       "      <td>360.0</td>\n",
       "      <td>1.0</td>\n",
       "      <td>Urban</td>\n",
       "      <td>Y</td>\n",
       "      <td>4172</td>\n",
       "    </tr>\n",
       "    <tr>\n",
       "      <th>3</th>\n",
       "      <td>LP002697</td>\n",
       "      <td>Male</td>\n",
       "      <td>No</td>\n",
       "      <td>0</td>\n",
       "      <td>Graduate</td>\n",
       "      <td>No</td>\n",
       "      <td>5850</td>\n",
       "      <td>2609</td>\n",
       "      <td>221.426768</td>\n",
       "      <td>360.0</td>\n",
       "      <td>1.0</td>\n",
       "      <td>Semiurban</td>\n",
       "      <td>N</td>\n",
       "      <td>8459</td>\n",
       "    </tr>\n",
       "    <tr>\n",
       "      <th>4</th>\n",
       "      <td>LP002533</td>\n",
       "      <td>Male</td>\n",
       "      <td>Yes</td>\n",
       "      <td>2</td>\n",
       "      <td>Graduate</td>\n",
       "      <td>No</td>\n",
       "      <td>3684</td>\n",
       "      <td>2004</td>\n",
       "      <td>221.426768</td>\n",
       "      <td>360.0</td>\n",
       "      <td>1.0</td>\n",
       "      <td>Urban</td>\n",
       "      <td>N</td>\n",
       "      <td>5688</td>\n",
       "    </tr>\n",
       "  </tbody>\n",
       "</table>\n",
       "</div>"
      ],
      "text/plain": [
       "    Loan_ID Gender Married Dependents Education Self_Employed  \\\n",
       "0  LP001350   Male     Yes          0  Graduate            No   \n",
       "1  LP001213   Male     Yes          1  Graduate            No   \n",
       "2  LP002401   Male     Yes          0  Graduate            No   \n",
       "3  LP002697   Male      No          0  Graduate            No   \n",
       "4  LP002533   Male     Yes          2  Graduate            No   \n",
       "\n",
       "   ApplicantIncome  CoapplicantIncome  LoanAmount  Loan_Amount_Term  \\\n",
       "0            17063                  0  221.426768             360.0   \n",
       "1             6181                  0  221.426768             360.0   \n",
       "2             2766               1406  221.426768             360.0   \n",
       "3             5850               2609  221.426768             360.0   \n",
       "4             3684               2004  221.426768             360.0   \n",
       "\n",
       "   Credit_History Property_Area Loan_Status  Total_income  \n",
       "0             1.0         Urban           Y         17063  \n",
       "1             0.0         Rural           N          6181  \n",
       "2             1.0         Urban           Y          4172  \n",
       "3             1.0     Semiurban           N          8459  \n",
       "4             1.0         Urban           N          5688  "
      ]
     },
     "execution_count": 54,
     "metadata": {},
     "output_type": "execute_result"
    }
   ],
   "source": [
    "data.head()"
   ]
  },
  {
   "cell_type": "code",
   "execution_count": 55,
   "id": "e4034324",
   "metadata": {},
   "outputs": [],
   "source": [
    "data['ApplicantIncomeLog'] = np.log(data['ApplicantIncome'])"
   ]
  },
  {
   "cell_type": "code",
   "execution_count": 56,
   "id": "0da9e4e1",
   "metadata": {},
   "outputs": [
    {
     "name": "stderr",
     "output_type": "stream",
     "text": [
      "C:\\Users\\anikr\\.conda\\envs\\tf\\lib\\site-packages\\pandas\\core\\arraylike.py:402: RuntimeWarning: divide by zero encountered in log\n",
      "  result = getattr(ufunc, method)(*inputs, **kwargs)\n"
     ]
    }
   ],
   "source": [
    "data['CoapplicantIncomeLog'] = np.log(data['CoapplicantIncome'])"
   ]
  },
  {
   "cell_type": "code",
   "execution_count": 57,
   "id": "4fdbacc9",
   "metadata": {},
   "outputs": [],
   "source": [
    "data['LoanAmountLog'] = np.log(data['LoanAmount'])"
   ]
  },
  {
   "cell_type": "code",
   "execution_count": 58,
   "id": "4bef0487",
   "metadata": {},
   "outputs": [],
   "source": [
    "data['Loan_Amount_Term_Log'] = np.log(data['Loan_Amount_Term'])"
   ]
  },
  {
   "cell_type": "code",
   "execution_count": 59,
   "id": "a868c007",
   "metadata": {},
   "outputs": [],
   "source": [
    "data['Total_Income_Log'] = np.log(data['Total_income'])"
   ]
  },
  {
   "cell_type": "code",
   "execution_count": 60,
   "id": "5428f6b0",
   "metadata": {},
   "outputs": [
    {
     "data": {
      "text/html": [
       "<div>\n",
       "<style scoped>\n",
       "    .dataframe tbody tr th:only-of-type {\n",
       "        vertical-align: middle;\n",
       "    }\n",
       "\n",
       "    .dataframe tbody tr th {\n",
       "        vertical-align: top;\n",
       "    }\n",
       "\n",
       "    .dataframe thead th {\n",
       "        text-align: right;\n",
       "    }\n",
       "</style>\n",
       "<table border=\"1\" class=\"dataframe\">\n",
       "  <thead>\n",
       "    <tr style=\"text-align: right;\">\n",
       "      <th></th>\n",
       "      <th>Loan_ID</th>\n",
       "      <th>Gender</th>\n",
       "      <th>Married</th>\n",
       "      <th>Dependents</th>\n",
       "      <th>Education</th>\n",
       "      <th>Self_Employed</th>\n",
       "      <th>ApplicantIncome</th>\n",
       "      <th>CoapplicantIncome</th>\n",
       "      <th>LoanAmount</th>\n",
       "      <th>Loan_Amount_Term</th>\n",
       "      <th>Credit_History</th>\n",
       "      <th>Property_Area</th>\n",
       "      <th>Loan_Status</th>\n",
       "      <th>Total_income</th>\n",
       "      <th>ApplicantIncomeLog</th>\n",
       "      <th>CoapplicantIncomeLog</th>\n",
       "      <th>LoanAmountLog</th>\n",
       "      <th>Loan_Amount_Term_Log</th>\n",
       "      <th>Total_Income_Log</th>\n",
       "    </tr>\n",
       "  </thead>\n",
       "  <tbody>\n",
       "    <tr>\n",
       "      <th>0</th>\n",
       "      <td>LP001350</td>\n",
       "      <td>Male</td>\n",
       "      <td>Yes</td>\n",
       "      <td>0</td>\n",
       "      <td>Graduate</td>\n",
       "      <td>No</td>\n",
       "      <td>17063</td>\n",
       "      <td>0</td>\n",
       "      <td>221.426768</td>\n",
       "      <td>360.0</td>\n",
       "      <td>1.0</td>\n",
       "      <td>Urban</td>\n",
       "      <td>Y</td>\n",
       "      <td>17063</td>\n",
       "      <td>9.744668</td>\n",
       "      <td>-inf</td>\n",
       "      <td>5.400092</td>\n",
       "      <td>5.886104</td>\n",
       "      <td>9.744668</td>\n",
       "    </tr>\n",
       "    <tr>\n",
       "      <th>1</th>\n",
       "      <td>LP001213</td>\n",
       "      <td>Male</td>\n",
       "      <td>Yes</td>\n",
       "      <td>1</td>\n",
       "      <td>Graduate</td>\n",
       "      <td>No</td>\n",
       "      <td>6181</td>\n",
       "      <td>0</td>\n",
       "      <td>221.426768</td>\n",
       "      <td>360.0</td>\n",
       "      <td>0.0</td>\n",
       "      <td>Rural</td>\n",
       "      <td>N</td>\n",
       "      <td>6181</td>\n",
       "      <td>8.729235</td>\n",
       "      <td>-inf</td>\n",
       "      <td>5.400092</td>\n",
       "      <td>5.886104</td>\n",
       "      <td>8.729235</td>\n",
       "    </tr>\n",
       "    <tr>\n",
       "      <th>2</th>\n",
       "      <td>LP002401</td>\n",
       "      <td>Male</td>\n",
       "      <td>Yes</td>\n",
       "      <td>0</td>\n",
       "      <td>Graduate</td>\n",
       "      <td>No</td>\n",
       "      <td>2766</td>\n",
       "      <td>1406</td>\n",
       "      <td>221.426768</td>\n",
       "      <td>360.0</td>\n",
       "      <td>1.0</td>\n",
       "      <td>Urban</td>\n",
       "      <td>Y</td>\n",
       "      <td>4172</td>\n",
       "      <td>7.925158</td>\n",
       "      <td>7.248504</td>\n",
       "      <td>5.400092</td>\n",
       "      <td>5.886104</td>\n",
       "      <td>8.336151</td>\n",
       "    </tr>\n",
       "    <tr>\n",
       "      <th>3</th>\n",
       "      <td>LP002697</td>\n",
       "      <td>Male</td>\n",
       "      <td>No</td>\n",
       "      <td>0</td>\n",
       "      <td>Graduate</td>\n",
       "      <td>No</td>\n",
       "      <td>5850</td>\n",
       "      <td>2609</td>\n",
       "      <td>221.426768</td>\n",
       "      <td>360.0</td>\n",
       "      <td>1.0</td>\n",
       "      <td>Semiurban</td>\n",
       "      <td>N</td>\n",
       "      <td>8459</td>\n",
       "      <td>8.674197</td>\n",
       "      <td>7.866722</td>\n",
       "      <td>5.400092</td>\n",
       "      <td>5.886104</td>\n",
       "      <td>9.042986</td>\n",
       "    </tr>\n",
       "    <tr>\n",
       "      <th>4</th>\n",
       "      <td>LP002533</td>\n",
       "      <td>Male</td>\n",
       "      <td>Yes</td>\n",
       "      <td>2</td>\n",
       "      <td>Graduate</td>\n",
       "      <td>No</td>\n",
       "      <td>3684</td>\n",
       "      <td>2004</td>\n",
       "      <td>221.426768</td>\n",
       "      <td>360.0</td>\n",
       "      <td>1.0</td>\n",
       "      <td>Urban</td>\n",
       "      <td>N</td>\n",
       "      <td>5688</td>\n",
       "      <td>8.211754</td>\n",
       "      <td>7.602900</td>\n",
       "      <td>5.400092</td>\n",
       "      <td>5.886104</td>\n",
       "      <td>8.646114</td>\n",
       "    </tr>\n",
       "  </tbody>\n",
       "</table>\n",
       "</div>"
      ],
      "text/plain": [
       "    Loan_ID Gender Married Dependents Education Self_Employed  \\\n",
       "0  LP001350   Male     Yes          0  Graduate            No   \n",
       "1  LP001213   Male     Yes          1  Graduate            No   \n",
       "2  LP002401   Male     Yes          0  Graduate            No   \n",
       "3  LP002697   Male      No          0  Graduate            No   \n",
       "4  LP002533   Male     Yes          2  Graduate            No   \n",
       "\n",
       "   ApplicantIncome  CoapplicantIncome  LoanAmount  Loan_Amount_Term  \\\n",
       "0            17063                  0  221.426768             360.0   \n",
       "1             6181                  0  221.426768             360.0   \n",
       "2             2766               1406  221.426768             360.0   \n",
       "3             5850               2609  221.426768             360.0   \n",
       "4             3684               2004  221.426768             360.0   \n",
       "\n",
       "   Credit_History Property_Area Loan_Status  Total_income  ApplicantIncomeLog  \\\n",
       "0             1.0         Urban           Y         17063            9.744668   \n",
       "1             0.0         Rural           N          6181            8.729235   \n",
       "2             1.0         Urban           Y          4172            7.925158   \n",
       "3             1.0     Semiurban           N          8459            8.674197   \n",
       "4             1.0         Urban           N          5688            8.211754   \n",
       "\n",
       "   CoapplicantIncomeLog  LoanAmountLog  Loan_Amount_Term_Log  Total_Income_Log  \n",
       "0                  -inf       5.400092              5.886104          9.744668  \n",
       "1                  -inf       5.400092              5.886104          8.729235  \n",
       "2              7.248504       5.400092              5.886104          8.336151  \n",
       "3              7.866722       5.400092              5.886104          9.042986  \n",
       "4              7.602900       5.400092              5.886104          8.646114  "
      ]
     },
     "execution_count": 60,
     "metadata": {},
     "output_type": "execute_result"
    }
   ],
   "source": [
    "data.head()"
   ]
  },
  {
   "cell_type": "code",
   "execution_count": 61,
   "id": "334ac125",
   "metadata": {},
   "outputs": [],
   "source": [
    "cols = ['ApplicantIncome', 'CoapplicantIncome', \"LoanAmount\", \"Loan_Amount_Term\", \"Total_income\", 'Loan_ID', 'CoapplicantIncomeLog']\n",
    "data = data.drop(columns=cols, axis=1)"
   ]
  },
  {
   "cell_type": "code",
   "execution_count": 62,
   "id": "782f71cc",
   "metadata": {},
   "outputs": [
    {
     "data": {
      "text/html": [
       "<div>\n",
       "<style scoped>\n",
       "    .dataframe tbody tr th:only-of-type {\n",
       "        vertical-align: middle;\n",
       "    }\n",
       "\n",
       "    .dataframe tbody tr th {\n",
       "        vertical-align: top;\n",
       "    }\n",
       "\n",
       "    .dataframe thead th {\n",
       "        text-align: right;\n",
       "    }\n",
       "</style>\n",
       "<table border=\"1\" class=\"dataframe\">\n",
       "  <thead>\n",
       "    <tr style=\"text-align: right;\">\n",
       "      <th></th>\n",
       "      <th>Gender</th>\n",
       "      <th>Married</th>\n",
       "      <th>Dependents</th>\n",
       "      <th>Education</th>\n",
       "      <th>Self_Employed</th>\n",
       "      <th>Credit_History</th>\n",
       "      <th>Property_Area</th>\n",
       "      <th>Loan_Status</th>\n",
       "      <th>ApplicantIncomeLog</th>\n",
       "      <th>LoanAmountLog</th>\n",
       "      <th>Loan_Amount_Term_Log</th>\n",
       "      <th>Total_Income_Log</th>\n",
       "    </tr>\n",
       "  </thead>\n",
       "  <tbody>\n",
       "    <tr>\n",
       "      <th>0</th>\n",
       "      <td>Male</td>\n",
       "      <td>Yes</td>\n",
       "      <td>0</td>\n",
       "      <td>Graduate</td>\n",
       "      <td>No</td>\n",
       "      <td>1.0</td>\n",
       "      <td>Urban</td>\n",
       "      <td>Y</td>\n",
       "      <td>9.744668</td>\n",
       "      <td>5.400092</td>\n",
       "      <td>5.886104</td>\n",
       "      <td>9.744668</td>\n",
       "    </tr>\n",
       "    <tr>\n",
       "      <th>1</th>\n",
       "      <td>Male</td>\n",
       "      <td>Yes</td>\n",
       "      <td>1</td>\n",
       "      <td>Graduate</td>\n",
       "      <td>No</td>\n",
       "      <td>0.0</td>\n",
       "      <td>Rural</td>\n",
       "      <td>N</td>\n",
       "      <td>8.729235</td>\n",
       "      <td>5.400092</td>\n",
       "      <td>5.886104</td>\n",
       "      <td>8.729235</td>\n",
       "    </tr>\n",
       "    <tr>\n",
       "      <th>2</th>\n",
       "      <td>Male</td>\n",
       "      <td>Yes</td>\n",
       "      <td>0</td>\n",
       "      <td>Graduate</td>\n",
       "      <td>No</td>\n",
       "      <td>1.0</td>\n",
       "      <td>Urban</td>\n",
       "      <td>Y</td>\n",
       "      <td>7.925158</td>\n",
       "      <td>5.400092</td>\n",
       "      <td>5.886104</td>\n",
       "      <td>8.336151</td>\n",
       "    </tr>\n",
       "    <tr>\n",
       "      <th>3</th>\n",
       "      <td>Male</td>\n",
       "      <td>No</td>\n",
       "      <td>0</td>\n",
       "      <td>Graduate</td>\n",
       "      <td>No</td>\n",
       "      <td>1.0</td>\n",
       "      <td>Semiurban</td>\n",
       "      <td>N</td>\n",
       "      <td>8.674197</td>\n",
       "      <td>5.400092</td>\n",
       "      <td>5.886104</td>\n",
       "      <td>9.042986</td>\n",
       "    </tr>\n",
       "    <tr>\n",
       "      <th>4</th>\n",
       "      <td>Male</td>\n",
       "      <td>Yes</td>\n",
       "      <td>2</td>\n",
       "      <td>Graduate</td>\n",
       "      <td>No</td>\n",
       "      <td>1.0</td>\n",
       "      <td>Urban</td>\n",
       "      <td>N</td>\n",
       "      <td>8.211754</td>\n",
       "      <td>5.400092</td>\n",
       "      <td>5.886104</td>\n",
       "      <td>8.646114</td>\n",
       "    </tr>\n",
       "  </tbody>\n",
       "</table>\n",
       "</div>"
      ],
      "text/plain": [
       "  Gender Married Dependents Education Self_Employed  Credit_History  \\\n",
       "0   Male     Yes          0  Graduate            No             1.0   \n",
       "1   Male     Yes          1  Graduate            No             0.0   \n",
       "2   Male     Yes          0  Graduate            No             1.0   \n",
       "3   Male      No          0  Graduate            No             1.0   \n",
       "4   Male     Yes          2  Graduate            No             1.0   \n",
       "\n",
       "  Property_Area Loan_Status  ApplicantIncomeLog  LoanAmountLog  \\\n",
       "0         Urban           Y            9.744668       5.400092   \n",
       "1         Rural           N            8.729235       5.400092   \n",
       "2         Urban           Y            7.925158       5.400092   \n",
       "3     Semiurban           N            8.674197       5.400092   \n",
       "4         Urban           N            8.211754       5.400092   \n",
       "\n",
       "   Loan_Amount_Term_Log  Total_Income_Log  \n",
       "0              5.886104          9.744668  \n",
       "1              5.886104          8.729235  \n",
       "2              5.886104          8.336151  \n",
       "3              5.886104          9.042986  \n",
       "4              5.886104          8.646114  "
      ]
     },
     "execution_count": 62,
     "metadata": {},
     "output_type": "execute_result"
    }
   ],
   "source": [
    "data.head()"
   ]
  },
  {
   "cell_type": "code",
   "execution_count": 63,
   "id": "b7fd306f",
   "metadata": {},
   "outputs": [
    {
     "data": {
      "text/plain": [
       "Y    585\n",
       "N    229\n",
       "Name: Loan_Status, dtype: int64"
      ]
     },
     "execution_count": 63,
     "metadata": {},
     "output_type": "execute_result"
    }
   ],
   "source": [
    "data.Loan_Status.value_counts()"
   ]
  },
  {
   "cell_type": "code",
   "execution_count": 64,
   "id": "81aad7e0",
   "metadata": {},
   "outputs": [
    {
     "name": "stdout",
     "output_type": "stream",
     "text": [
      "<class 'pandas.core.frame.DataFrame'>\n",
      "RangeIndex: 814 entries, 0 to 813\n",
      "Data columns (total 12 columns):\n",
      " #   Column                Non-Null Count  Dtype  \n",
      "---  ------                --------------  -----  \n",
      " 0   Gender                814 non-null    object \n",
      " 1   Married               814 non-null    object \n",
      " 2   Dependents            814 non-null    object \n",
      " 3   Education             814 non-null    object \n",
      " 4   Self_Employed         814 non-null    object \n",
      " 5   Credit_History        814 non-null    float64\n",
      " 6   Property_Area         814 non-null    object \n",
      " 7   Loan_Status           814 non-null    object \n",
      " 8   ApplicantIncomeLog    814 non-null    float64\n",
      " 9   LoanAmountLog         814 non-null    float64\n",
      " 10  Loan_Amount_Term_Log  814 non-null    float64\n",
      " 11  Total_Income_Log      814 non-null    float64\n",
      "dtypes: float64(5), object(7)\n",
      "memory usage: 76.4+ KB\n"
     ]
    }
   ],
   "source": [
    "data.info()"
   ]
  },
  {
   "cell_type": "code",
   "execution_count": 65,
   "id": "f5cd08bc",
   "metadata": {},
   "outputs": [
    {
     "data": {
      "text/plain": [
       "Graduate        574\n",
       "Not Graduate    240\n",
       "Name: Education, dtype: int64"
      ]
     },
     "execution_count": 65,
     "metadata": {},
     "output_type": "execute_result"
    }
   ],
   "source": [
    "data.Education.value_counts()"
   ]
  },
  {
   "cell_type": "code",
   "execution_count": 66,
   "id": "4d184958",
   "metadata": {},
   "outputs": [],
   "source": [
    "d1 = pd.get_dummies(data['Gender'], drop_first= True)\n",
    "d2 = pd.get_dummies(data['Married'], drop_first= True)\n",
    "d3 = pd.get_dummies(data['Dependents'], drop_first= True)\n",
    "d4 = pd.get_dummies(data['Education'], drop_first= True)\n",
    "d5 = pd.get_dummies(data['Self_Employed'], drop_first= True)\n",
    "d6 = pd.get_dummies(data['Property_Area'], drop_first= True)\n",
    "\n",
    "\n",
    "\n",
    "data1 = pd.concat([data, d1, d2, d3, d4, d5, d6], axis = 1)\n",
    "data=data1\n",
    "\n",
    "cols = ['Gender', 'Married', \"Dependents\", \"Education\", \"Self_Employed\", 'Property_Area']\n",
    "data = data.drop(columns=cols, axis=1)"
   ]
  },
  {
   "cell_type": "code",
   "execution_count": 67,
   "id": "1a216e31",
   "metadata": {},
   "outputs": [
    {
     "data": {
      "text/html": [
       "<div>\n",
       "<style scoped>\n",
       "    .dataframe tbody tr th:only-of-type {\n",
       "        vertical-align: middle;\n",
       "    }\n",
       "\n",
       "    .dataframe tbody tr th {\n",
       "        vertical-align: top;\n",
       "    }\n",
       "\n",
       "    .dataframe thead th {\n",
       "        text-align: right;\n",
       "    }\n",
       "</style>\n",
       "<table border=\"1\" class=\"dataframe\">\n",
       "  <thead>\n",
       "    <tr style=\"text-align: right;\">\n",
       "      <th></th>\n",
       "      <th>Credit_History</th>\n",
       "      <th>Loan_Status</th>\n",
       "      <th>ApplicantIncomeLog</th>\n",
       "      <th>LoanAmountLog</th>\n",
       "      <th>Loan_Amount_Term_Log</th>\n",
       "      <th>Total_Income_Log</th>\n",
       "      <th>Male</th>\n",
       "      <th>Yes</th>\n",
       "      <th>1</th>\n",
       "      <th>2</th>\n",
       "      <th>3+</th>\n",
       "      <th>Not Graduate</th>\n",
       "      <th>Yes</th>\n",
       "      <th>Semiurban</th>\n",
       "      <th>Urban</th>\n",
       "    </tr>\n",
       "  </thead>\n",
       "  <tbody>\n",
       "    <tr>\n",
       "      <th>0</th>\n",
       "      <td>1.0</td>\n",
       "      <td>Y</td>\n",
       "      <td>9.744668</td>\n",
       "      <td>5.400092</td>\n",
       "      <td>5.886104</td>\n",
       "      <td>9.744668</td>\n",
       "      <td>1</td>\n",
       "      <td>1</td>\n",
       "      <td>0</td>\n",
       "      <td>0</td>\n",
       "      <td>0</td>\n",
       "      <td>0</td>\n",
       "      <td>0</td>\n",
       "      <td>0</td>\n",
       "      <td>1</td>\n",
       "    </tr>\n",
       "    <tr>\n",
       "      <th>1</th>\n",
       "      <td>0.0</td>\n",
       "      <td>N</td>\n",
       "      <td>8.729235</td>\n",
       "      <td>5.400092</td>\n",
       "      <td>5.886104</td>\n",
       "      <td>8.729235</td>\n",
       "      <td>1</td>\n",
       "      <td>1</td>\n",
       "      <td>1</td>\n",
       "      <td>0</td>\n",
       "      <td>0</td>\n",
       "      <td>0</td>\n",
       "      <td>0</td>\n",
       "      <td>0</td>\n",
       "      <td>0</td>\n",
       "    </tr>\n",
       "    <tr>\n",
       "      <th>2</th>\n",
       "      <td>1.0</td>\n",
       "      <td>Y</td>\n",
       "      <td>7.925158</td>\n",
       "      <td>5.400092</td>\n",
       "      <td>5.886104</td>\n",
       "      <td>8.336151</td>\n",
       "      <td>1</td>\n",
       "      <td>1</td>\n",
       "      <td>0</td>\n",
       "      <td>0</td>\n",
       "      <td>0</td>\n",
       "      <td>0</td>\n",
       "      <td>0</td>\n",
       "      <td>0</td>\n",
       "      <td>1</td>\n",
       "    </tr>\n",
       "    <tr>\n",
       "      <th>3</th>\n",
       "      <td>1.0</td>\n",
       "      <td>N</td>\n",
       "      <td>8.674197</td>\n",
       "      <td>5.400092</td>\n",
       "      <td>5.886104</td>\n",
       "      <td>9.042986</td>\n",
       "      <td>1</td>\n",
       "      <td>0</td>\n",
       "      <td>0</td>\n",
       "      <td>0</td>\n",
       "      <td>0</td>\n",
       "      <td>0</td>\n",
       "      <td>0</td>\n",
       "      <td>1</td>\n",
       "      <td>0</td>\n",
       "    </tr>\n",
       "    <tr>\n",
       "      <th>4</th>\n",
       "      <td>1.0</td>\n",
       "      <td>N</td>\n",
       "      <td>8.211754</td>\n",
       "      <td>5.400092</td>\n",
       "      <td>5.886104</td>\n",
       "      <td>8.646114</td>\n",
       "      <td>1</td>\n",
       "      <td>1</td>\n",
       "      <td>0</td>\n",
       "      <td>1</td>\n",
       "      <td>0</td>\n",
       "      <td>0</td>\n",
       "      <td>0</td>\n",
       "      <td>0</td>\n",
       "      <td>1</td>\n",
       "    </tr>\n",
       "  </tbody>\n",
       "</table>\n",
       "</div>"
      ],
      "text/plain": [
       "   Credit_History Loan_Status  ApplicantIncomeLog  LoanAmountLog  \\\n",
       "0             1.0           Y            9.744668       5.400092   \n",
       "1             0.0           N            8.729235       5.400092   \n",
       "2             1.0           Y            7.925158       5.400092   \n",
       "3             1.0           N            8.674197       5.400092   \n",
       "4             1.0           N            8.211754       5.400092   \n",
       "\n",
       "   Loan_Amount_Term_Log  Total_Income_Log  Male  Yes  1  2  3+  Not Graduate  \\\n",
       "0              5.886104          9.744668     1    1  0  0   0             0   \n",
       "1              5.886104          8.729235     1    1  1  0   0             0   \n",
       "2              5.886104          8.336151     1    1  0  0   0             0   \n",
       "3              5.886104          9.042986     1    0  0  0   0             0   \n",
       "4              5.886104          8.646114     1    1  0  1   0             0   \n",
       "\n",
       "   Yes  Semiurban  Urban  \n",
       "0    0          0      1  \n",
       "1    0          0      0  \n",
       "2    0          0      1  \n",
       "3    0          1      0  \n",
       "4    0          0      1  "
      ]
     },
     "execution_count": 67,
     "metadata": {},
     "output_type": "execute_result"
    }
   ],
   "source": [
    "data.head()"
   ]
  },
  {
   "cell_type": "code",
   "execution_count": 68,
   "id": "52ae90fe",
   "metadata": {},
   "outputs": [
    {
     "name": "stdout",
     "output_type": "stream",
     "text": [
      "<class 'pandas.core.frame.DataFrame'>\n",
      "RangeIndex: 814 entries, 0 to 813\n",
      "Data columns (total 15 columns):\n",
      " #   Column                Non-Null Count  Dtype  \n",
      "---  ------                --------------  -----  \n",
      " 0   Credit_History        814 non-null    float64\n",
      " 1   Loan_Status           814 non-null    object \n",
      " 2   ApplicantIncomeLog    814 non-null    float64\n",
      " 3   LoanAmountLog         814 non-null    float64\n",
      " 4   Loan_Amount_Term_Log  814 non-null    float64\n",
      " 5   Total_Income_Log      814 non-null    float64\n",
      " 6   Male                  814 non-null    uint8  \n",
      " 7   Yes                   814 non-null    uint8  \n",
      " 8   1                     814 non-null    uint8  \n",
      " 9   2                     814 non-null    uint8  \n",
      " 10  3+                    814 non-null    uint8  \n",
      " 11  Not Graduate          814 non-null    uint8  \n",
      " 12  Yes                   814 non-null    uint8  \n",
      " 13  Semiurban             814 non-null    uint8  \n",
      " 14  Urban                 814 non-null    uint8  \n",
      "dtypes: float64(5), object(1), uint8(9)\n",
      "memory usage: 45.4+ KB\n"
     ]
    }
   ],
   "source": [
    "data.info()"
   ]
  },
  {
   "cell_type": "code",
   "execution_count": 69,
   "id": "87ecc1b7",
   "metadata": {},
   "outputs": [
    {
     "data": {
      "text/html": [
       "<div>\n",
       "<style scoped>\n",
       "    .dataframe tbody tr th:only-of-type {\n",
       "        vertical-align: middle;\n",
       "    }\n",
       "\n",
       "    .dataframe tbody tr th {\n",
       "        vertical-align: top;\n",
       "    }\n",
       "\n",
       "    .dataframe thead th {\n",
       "        text-align: right;\n",
       "    }\n",
       "</style>\n",
       "<table border=\"1\" class=\"dataframe\">\n",
       "  <thead>\n",
       "    <tr style=\"text-align: right;\">\n",
       "      <th></th>\n",
       "      <th>Credit_History</th>\n",
       "      <th>ApplicantIncomeLog</th>\n",
       "      <th>LoanAmountLog</th>\n",
       "      <th>Loan_Amount_Term_Log</th>\n",
       "      <th>Total_Income_Log</th>\n",
       "      <th>Male</th>\n",
       "      <th>Yes</th>\n",
       "      <th>1</th>\n",
       "      <th>2</th>\n",
       "      <th>3+</th>\n",
       "      <th>Not Graduate</th>\n",
       "      <th>Yes</th>\n",
       "      <th>Semiurban</th>\n",
       "      <th>Urban</th>\n",
       "    </tr>\n",
       "  </thead>\n",
       "  <tbody>\n",
       "    <tr>\n",
       "      <th>count</th>\n",
       "      <td>814.000000</td>\n",
       "      <td>814.000000</td>\n",
       "      <td>814.000000</td>\n",
       "      <td>814.000000</td>\n",
       "      <td>814.000000</td>\n",
       "      <td>814.000000</td>\n",
       "      <td>814.000000</td>\n",
       "      <td>814.000000</td>\n",
       "      <td>814.000000</td>\n",
       "      <td>814.000000</td>\n",
       "      <td>814.000000</td>\n",
       "      <td>814.000000</td>\n",
       "      <td>814.000000</td>\n",
       "      <td>814.000000</td>\n",
       "    </tr>\n",
       "    <tr>\n",
       "      <th>mean</th>\n",
       "      <td>0.739529</td>\n",
       "      <td>8.761385</td>\n",
       "      <td>5.246795</td>\n",
       "      <td>5.692557</td>\n",
       "      <td>9.083706</td>\n",
       "      <td>0.740786</td>\n",
       "      <td>0.611794</td>\n",
       "      <td>0.223587</td>\n",
       "      <td>0.173219</td>\n",
       "      <td>0.076167</td>\n",
       "      <td>0.294840</td>\n",
       "      <td>0.226044</td>\n",
       "      <td>0.363636</td>\n",
       "      <td>0.331695</td>\n",
       "    </tr>\n",
       "    <tr>\n",
       "      <th>std</th>\n",
       "      <td>0.425460</td>\n",
       "      <td>0.729035</td>\n",
       "      <td>0.561746</td>\n",
       "      <td>0.395865</td>\n",
       "      <td>0.646697</td>\n",
       "      <td>0.438473</td>\n",
       "      <td>0.487642</td>\n",
       "      <td>0.416905</td>\n",
       "      <td>0.378669</td>\n",
       "      <td>0.265428</td>\n",
       "      <td>0.456251</td>\n",
       "      <td>0.418525</td>\n",
       "      <td>0.481341</td>\n",
       "      <td>0.471112</td>\n",
       "    </tr>\n",
       "    <tr>\n",
       "      <th>min</th>\n",
       "      <td>0.000000</td>\n",
       "      <td>5.236442</td>\n",
       "      <td>2.397895</td>\n",
       "      <td>2.484907</td>\n",
       "      <td>7.411556</td>\n",
       "      <td>0.000000</td>\n",
       "      <td>0.000000</td>\n",
       "      <td>0.000000</td>\n",
       "      <td>0.000000</td>\n",
       "      <td>0.000000</td>\n",
       "      <td>0.000000</td>\n",
       "      <td>0.000000</td>\n",
       "      <td>0.000000</td>\n",
       "      <td>0.000000</td>\n",
       "    </tr>\n",
       "    <tr>\n",
       "      <th>25%</th>\n",
       "      <td>0.739529</td>\n",
       "      <td>8.254074</td>\n",
       "      <td>4.927254</td>\n",
       "      <td>5.752811</td>\n",
       "      <td>8.640295</td>\n",
       "      <td>0.000000</td>\n",
       "      <td>0.000000</td>\n",
       "      <td>0.000000</td>\n",
       "      <td>0.000000</td>\n",
       "      <td>0.000000</td>\n",
       "      <td>0.000000</td>\n",
       "      <td>0.000000</td>\n",
       "      <td>0.000000</td>\n",
       "      <td>0.000000</td>\n",
       "    </tr>\n",
       "    <tr>\n",
       "      <th>50%</th>\n",
       "      <td>1.000000</td>\n",
       "      <td>8.651460</td>\n",
       "      <td>5.192957</td>\n",
       "      <td>5.886104</td>\n",
       "      <td>8.958025</td>\n",
       "      <td>1.000000</td>\n",
       "      <td>1.000000</td>\n",
       "      <td>0.000000</td>\n",
       "      <td>0.000000</td>\n",
       "      <td>0.000000</td>\n",
       "      <td>0.000000</td>\n",
       "      <td>0.000000</td>\n",
       "      <td>0.000000</td>\n",
       "      <td>0.000000</td>\n",
       "    </tr>\n",
       "    <tr>\n",
       "      <th>75%</th>\n",
       "      <td>1.000000</td>\n",
       "      <td>9.251242</td>\n",
       "      <td>5.559718</td>\n",
       "      <td>5.886104</td>\n",
       "      <td>9.526878</td>\n",
       "      <td>1.000000</td>\n",
       "      <td>1.000000</td>\n",
       "      <td>0.000000</td>\n",
       "      <td>0.000000</td>\n",
       "      <td>0.000000</td>\n",
       "      <td>1.000000</td>\n",
       "      <td>0.000000</td>\n",
       "      <td>1.000000</td>\n",
       "      <td>1.000000</td>\n",
       "    </tr>\n",
       "    <tr>\n",
       "      <th>max</th>\n",
       "      <td>1.000000</td>\n",
       "      <td>11.525348</td>\n",
       "      <td>6.774224</td>\n",
       "      <td>6.173786</td>\n",
       "      <td>11.525348</td>\n",
       "      <td>1.000000</td>\n",
       "      <td>1.000000</td>\n",
       "      <td>1.000000</td>\n",
       "      <td>1.000000</td>\n",
       "      <td>1.000000</td>\n",
       "      <td>1.000000</td>\n",
       "      <td>1.000000</td>\n",
       "      <td>1.000000</td>\n",
       "      <td>1.000000</td>\n",
       "    </tr>\n",
       "  </tbody>\n",
       "</table>\n",
       "</div>"
      ],
      "text/plain": [
       "       Credit_History  ApplicantIncomeLog  LoanAmountLog  \\\n",
       "count      814.000000          814.000000     814.000000   \n",
       "mean         0.739529            8.761385       5.246795   \n",
       "std          0.425460            0.729035       0.561746   \n",
       "min          0.000000            5.236442       2.397895   \n",
       "25%          0.739529            8.254074       4.927254   \n",
       "50%          1.000000            8.651460       5.192957   \n",
       "75%          1.000000            9.251242       5.559718   \n",
       "max          1.000000           11.525348       6.774224   \n",
       "\n",
       "       Loan_Amount_Term_Log  Total_Income_Log        Male         Yes  \\\n",
       "count            814.000000        814.000000  814.000000  814.000000   \n",
       "mean               5.692557          9.083706    0.740786    0.611794   \n",
       "std                0.395865          0.646697    0.438473    0.487642   \n",
       "min                2.484907          7.411556    0.000000    0.000000   \n",
       "25%                5.752811          8.640295    0.000000    0.000000   \n",
       "50%                5.886104          8.958025    1.000000    1.000000   \n",
       "75%                5.886104          9.526878    1.000000    1.000000   \n",
       "max                6.173786         11.525348    1.000000    1.000000   \n",
       "\n",
       "                1           2          3+  Not Graduate         Yes  \\\n",
       "count  814.000000  814.000000  814.000000    814.000000  814.000000   \n",
       "mean     0.223587    0.173219    0.076167      0.294840    0.226044   \n",
       "std      0.416905    0.378669    0.265428      0.456251    0.418525   \n",
       "min      0.000000    0.000000    0.000000      0.000000    0.000000   \n",
       "25%      0.000000    0.000000    0.000000      0.000000    0.000000   \n",
       "50%      0.000000    0.000000    0.000000      0.000000    0.000000   \n",
       "75%      0.000000    0.000000    0.000000      1.000000    0.000000   \n",
       "max      1.000000    1.000000    1.000000      1.000000    1.000000   \n",
       "\n",
       "        Semiurban       Urban  \n",
       "count  814.000000  814.000000  \n",
       "mean     0.363636    0.331695  \n",
       "std      0.481341    0.471112  \n",
       "min      0.000000    0.000000  \n",
       "25%      0.000000    0.000000  \n",
       "50%      0.000000    0.000000  \n",
       "75%      1.000000    1.000000  \n",
       "max      1.000000    1.000000  "
      ]
     },
     "execution_count": 69,
     "metadata": {},
     "output_type": "execute_result"
    }
   ],
   "source": [
    "data.describe()"
   ]
  },
  {
   "cell_type": "code",
   "execution_count": 71,
   "id": "c7c87972",
   "metadata": {},
   "outputs": [
    {
     "name": "stderr",
     "output_type": "stream",
     "text": [
      "C:\\Users\\anikr\\.conda\\envs\\tf\\lib\\site-packages\\pandas\\core\\arraylike.py:402: RuntimeWarning: divide by zero encountered in log\n",
      "  result = getattr(ufunc, method)(*inputs, **kwargs)\n",
      "C:\\Users\\anikr\\.conda\\envs\\tf\\lib\\site-packages\\pandas\\core\\arraylike.py:402: RuntimeWarning: divide by zero encountered in log\n",
      "  result = getattr(ufunc, method)(*inputs, **kwargs)\n",
      "C:\\Users\\anikr\\.conda\\envs\\tf\\lib\\site-packages\\pandas\\core\\arraylike.py:402: RuntimeWarning: divide by zero encountered in log\n",
      "  result = getattr(ufunc, method)(*inputs, **kwargs)\n"
     ]
    }
   ],
   "source": [
    "test = pd.read_csv(\"C:/Users/anikr/Desktop/Machine_Learning/Datasets/loan-test.csv\")\n",
    "# filling numerical missing data\n",
    "test['LoanAmount']=test['LoanAmount'].fillna(test['LoanAmount'].mean())\n",
    "test['Loan_Amount_Term']=test['Loan_Amount_Term'].fillna(test['Loan_Amount_Term'].mean())\n",
    "test['Credit_History']=test['Credit_History'].fillna(test['Credit_History'].mean())\n",
    "\n",
    "# filling categorical missing data\n",
    "test['Gender']=test['Gender'].fillna(test['Gender'].mode()[0])\n",
    "test['Married']=test['Married'].fillna(test['Married'].mode()[0])\n",
    "test['Dependents']=test['Dependents'].fillna(test['Dependents'].mode()[0])\n",
    "test['Self_Employed']=test['Self_Employed'].fillna(test['Self_Employed'].mode()[0])\n",
    "\n",
    "test['Total_income'] = test['ApplicantIncome']+test['CoapplicantIncome']\n",
    "\n",
    "# apply log transformation to the attribute\n",
    "test['ApplicantIncomeLog'] = np.log(test['ApplicantIncome'])\n",
    "\n",
    "test['CoapplicantIncomeLog'] = np.log(test['CoapplicantIncome'])\n",
    "\n",
    "test['LoanAmountLog'] = np.log(test['LoanAmount'])\n",
    "\n",
    "test['Loan_Amount_Term_Log'] = np.log(test['Loan_Amount_Term'])\n",
    "\n",
    "test['Total_Income_Log'] = np.log(test['Total_income'])\n",
    "\n",
    "cols = ['ApplicantIncome', 'CoapplicantIncome', \"LoanAmount\", \"Loan_Amount_Term\", \"Total_income\", 'Loan_ID', 'CoapplicantIncomeLog']\n",
    "test = test.drop(columns=cols, axis=1)\n",
    "\n",
    "t1 = pd.get_dummies(test['Gender'], drop_first= True)\n",
    "t2 = pd.get_dummies(test['Married'], drop_first= True)\n",
    "t3 = pd.get_dummies(test['Dependents'], drop_first= True)\n",
    "t4 = pd.get_dummies(test['Education'], drop_first= True)\n",
    "t5 = pd.get_dummies(test['Self_Employed'], drop_first= True)\n",
    "t6 = pd.get_dummies(test['Property_Area'], drop_first= True)\n",
    "\n",
    "\n",
    "\n",
    "data1 = pd.concat([test, t1, t2, t3, t4, t5, t6], axis = 1)\n",
    "test = data1\n",
    "\n",
    "cols = ['Gender', 'Married', \"Dependents\", \"Education\", \"Self_Employed\", 'Property_Area']\n",
    "test = test.drop(columns=cols, axis=1)"
   ]
  },
  {
   "cell_type": "code",
   "execution_count": 72,
   "id": "91a6dfe8",
   "metadata": {},
   "outputs": [
    {
     "data": {
      "text/html": [
       "<div>\n",
       "<style scoped>\n",
       "    .dataframe tbody tr th:only-of-type {\n",
       "        vertical-align: middle;\n",
       "    }\n",
       "\n",
       "    .dataframe tbody tr th {\n",
       "        vertical-align: top;\n",
       "    }\n",
       "\n",
       "    .dataframe thead th {\n",
       "        text-align: right;\n",
       "    }\n",
       "</style>\n",
       "<table border=\"1\" class=\"dataframe\">\n",
       "  <thead>\n",
       "    <tr style=\"text-align: right;\">\n",
       "      <th></th>\n",
       "      <th>Credit_History</th>\n",
       "      <th>ApplicantIncomeLog</th>\n",
       "      <th>LoanAmountLog</th>\n",
       "      <th>Loan_Amount_Term_Log</th>\n",
       "      <th>Total_Income_Log</th>\n",
       "      <th>Male</th>\n",
       "      <th>Yes</th>\n",
       "      <th>1</th>\n",
       "      <th>2</th>\n",
       "      <th>3+</th>\n",
       "      <th>Not Graduate</th>\n",
       "      <th>Yes</th>\n",
       "      <th>Semiurban</th>\n",
       "      <th>Urban</th>\n",
       "    </tr>\n",
       "  </thead>\n",
       "  <tbody>\n",
       "    <tr>\n",
       "      <th>0</th>\n",
       "      <td>1.000000</td>\n",
       "      <td>8.874868</td>\n",
       "      <td>4.927254</td>\n",
       "      <td>5.886104</td>\n",
       "      <td>8.874868</td>\n",
       "      <td>1</td>\n",
       "      <td>1</td>\n",
       "      <td>0</td>\n",
       "      <td>0</td>\n",
       "      <td>0</td>\n",
       "      <td>0</td>\n",
       "      <td>0</td>\n",
       "      <td>0</td>\n",
       "      <td>1</td>\n",
       "    </tr>\n",
       "    <tr>\n",
       "      <th>1</th>\n",
       "      <td>1.000000</td>\n",
       "      <td>8.254529</td>\n",
       "      <td>5.062595</td>\n",
       "      <td>5.886104</td>\n",
       "      <td>8.651724</td>\n",
       "      <td>1</td>\n",
       "      <td>1</td>\n",
       "      <td>1</td>\n",
       "      <td>0</td>\n",
       "      <td>0</td>\n",
       "      <td>0</td>\n",
       "      <td>0</td>\n",
       "      <td>0</td>\n",
       "      <td>1</td>\n",
       "    </tr>\n",
       "    <tr>\n",
       "      <th>2</th>\n",
       "      <td>1.000000</td>\n",
       "      <td>8.740337</td>\n",
       "      <td>5.560682</td>\n",
       "      <td>5.886104</td>\n",
       "      <td>9.047821</td>\n",
       "      <td>1</td>\n",
       "      <td>1</td>\n",
       "      <td>0</td>\n",
       "      <td>1</td>\n",
       "      <td>0</td>\n",
       "      <td>0</td>\n",
       "      <td>0</td>\n",
       "      <td>0</td>\n",
       "      <td>1</td>\n",
       "    </tr>\n",
       "    <tr>\n",
       "      <th>3</th>\n",
       "      <td>0.825444</td>\n",
       "      <td>7.981050</td>\n",
       "      <td>4.828314</td>\n",
       "      <td>5.886104</td>\n",
       "      <td>8.717355</td>\n",
       "      <td>1</td>\n",
       "      <td>1</td>\n",
       "      <td>0</td>\n",
       "      <td>1</td>\n",
       "      <td>0</td>\n",
       "      <td>0</td>\n",
       "      <td>0</td>\n",
       "      <td>0</td>\n",
       "      <td>1</td>\n",
       "    </tr>\n",
       "    <tr>\n",
       "      <th>4</th>\n",
       "      <td>1.000000</td>\n",
       "      <td>8.317522</td>\n",
       "      <td>4.584967</td>\n",
       "      <td>5.886104</td>\n",
       "      <td>8.317522</td>\n",
       "      <td>1</td>\n",
       "      <td>0</td>\n",
       "      <td>0</td>\n",
       "      <td>0</td>\n",
       "      <td>0</td>\n",
       "      <td>1</td>\n",
       "      <td>0</td>\n",
       "      <td>0</td>\n",
       "      <td>1</td>\n",
       "    </tr>\n",
       "  </tbody>\n",
       "</table>\n",
       "</div>"
      ],
      "text/plain": [
       "   Credit_History  ApplicantIncomeLog  LoanAmountLog  Loan_Amount_Term_Log  \\\n",
       "0        1.000000            8.874868       4.927254              5.886104   \n",
       "1        1.000000            8.254529       5.062595              5.886104   \n",
       "2        1.000000            8.740337       5.560682              5.886104   \n",
       "3        0.825444            7.981050       4.828314              5.886104   \n",
       "4        1.000000            8.317522       4.584967              5.886104   \n",
       "\n",
       "   Total_Income_Log  Male  Yes  1  2  3+  Not Graduate  Yes  Semiurban  Urban  \n",
       "0          8.874868     1    1  0  0   0             0    0          0      1  \n",
       "1          8.651724     1    1  1  0   0             0    0          0      1  \n",
       "2          9.047821     1    1  0  1   0             0    0          0      1  \n",
       "3          8.717355     1    1  0  1   0             0    0          0      1  \n",
       "4          8.317522     1    0  0  0   0             1    0          0      1  "
      ]
     },
     "execution_count": 72,
     "metadata": {},
     "output_type": "execute_result"
    }
   ],
   "source": [
    "test.head()"
   ]
  },
  {
   "cell_type": "code",
   "execution_count": 73,
   "id": "15e4842a",
   "metadata": {},
   "outputs": [],
   "source": [
    "#Correlation Matrix "
   ]
  },
  {
   "cell_type": "code",
   "execution_count": 74,
   "id": "181fd84d",
   "metadata": {},
   "outputs": [
    {
     "name": "stderr",
     "output_type": "stream",
     "text": [
      "C:\\Users\\anikr\\AppData\\Local\\Temp\\ipykernel_15616\\2627137660.py:1: FutureWarning: The default value of numeric_only in DataFrame.corr is deprecated. In a future version, it will default to False. Select only valid columns or specify the value of numeric_only to silence this warning.\n",
      "  data.corr()\n"
     ]
    },
    {
     "data": {
      "text/html": [
       "<div>\n",
       "<style scoped>\n",
       "    .dataframe tbody tr th:only-of-type {\n",
       "        vertical-align: middle;\n",
       "    }\n",
       "\n",
       "    .dataframe tbody tr th {\n",
       "        vertical-align: top;\n",
       "    }\n",
       "\n",
       "    .dataframe thead th {\n",
       "        text-align: right;\n",
       "    }\n",
       "</style>\n",
       "<table border=\"1\" class=\"dataframe\">\n",
       "  <thead>\n",
       "    <tr style=\"text-align: right;\">\n",
       "      <th></th>\n",
       "      <th>Credit_History</th>\n",
       "      <th>ApplicantIncomeLog</th>\n",
       "      <th>LoanAmountLog</th>\n",
       "      <th>Loan_Amount_Term_Log</th>\n",
       "      <th>Total_Income_Log</th>\n",
       "      <th>Male</th>\n",
       "      <th>Yes</th>\n",
       "      <th>1</th>\n",
       "      <th>2</th>\n",
       "      <th>3+</th>\n",
       "      <th>Not Graduate</th>\n",
       "      <th>Yes</th>\n",
       "      <th>Semiurban</th>\n",
       "      <th>Urban</th>\n",
       "    </tr>\n",
       "  </thead>\n",
       "  <tbody>\n",
       "    <tr>\n",
       "      <th>Credit_History</th>\n",
       "      <td>1.000000</td>\n",
       "      <td>-0.186594</td>\n",
       "      <td>-0.217911</td>\n",
       "      <td>0.184632</td>\n",
       "      <td>-0.208199</td>\n",
       "      <td>0.137840</td>\n",
       "      <td>0.061288</td>\n",
       "      <td>-0.095140</td>\n",
       "      <td>-0.006386</td>\n",
       "      <td>-0.017778</td>\n",
       "      <td>-0.125925</td>\n",
       "      <td>-0.158161</td>\n",
       "      <td>0.041634</td>\n",
       "      <td>0.000723</td>\n",
       "    </tr>\n",
       "    <tr>\n",
       "      <th>ApplicantIncomeLog</th>\n",
       "      <td>-0.186594</td>\n",
       "      <td>1.000000</td>\n",
       "      <td>0.532239</td>\n",
       "      <td>-0.230076</td>\n",
       "      <td>0.827210</td>\n",
       "      <td>-0.099458</td>\n",
       "      <td>-0.067642</td>\n",
       "      <td>0.195538</td>\n",
       "      <td>0.001290</td>\n",
       "      <td>0.051431</td>\n",
       "      <td>0.009502</td>\n",
       "      <td>0.277425</td>\n",
       "      <td>-0.009578</td>\n",
       "      <td>-0.012070</td>\n",
       "    </tr>\n",
       "    <tr>\n",
       "      <th>LoanAmountLog</th>\n",
       "      <td>-0.217911</td>\n",
       "      <td>0.532239</td>\n",
       "      <td>1.000000</td>\n",
       "      <td>-0.169187</td>\n",
       "      <td>0.634786</td>\n",
       "      <td>-0.068217</td>\n",
       "      <td>0.034543</td>\n",
       "      <td>0.126933</td>\n",
       "      <td>0.053549</td>\n",
       "      <td>0.048902</td>\n",
       "      <td>0.046838</td>\n",
       "      <td>0.246107</td>\n",
       "      <td>-0.002904</td>\n",
       "      <td>-0.067450</td>\n",
       "    </tr>\n",
       "    <tr>\n",
       "      <th>Loan_Amount_Term_Log</th>\n",
       "      <td>0.184632</td>\n",
       "      <td>-0.230076</td>\n",
       "      <td>-0.169187</td>\n",
       "      <td>1.000000</td>\n",
       "      <td>-0.258410</td>\n",
       "      <td>0.132191</td>\n",
       "      <td>0.055876</td>\n",
       "      <td>-0.175480</td>\n",
       "      <td>-0.045905</td>\n",
       "      <td>0.023035</td>\n",
       "      <td>-0.195442</td>\n",
       "      <td>-0.206088</td>\n",
       "      <td>0.046755</td>\n",
       "      <td>-0.037938</td>\n",
       "    </tr>\n",
       "    <tr>\n",
       "      <th>Total_Income_Log</th>\n",
       "      <td>-0.208199</td>\n",
       "      <td>0.827210</td>\n",
       "      <td>0.634786</td>\n",
       "      <td>-0.258410</td>\n",
       "      <td>1.000000</td>\n",
       "      <td>-0.077572</td>\n",
       "      <td>-0.000568</td>\n",
       "      <td>0.186766</td>\n",
       "      <td>0.002834</td>\n",
       "      <td>0.049057</td>\n",
       "      <td>-0.002594</td>\n",
       "      <td>0.275619</td>\n",
       "      <td>-0.032218</td>\n",
       "      <td>-0.010247</td>\n",
       "    </tr>\n",
       "    <tr>\n",
       "      <th>Male</th>\n",
       "      <td>0.137840</td>\n",
       "      <td>-0.099458</td>\n",
       "      <td>-0.068217</td>\n",
       "      <td>0.132191</td>\n",
       "      <td>-0.077572</td>\n",
       "      <td>1.000000</td>\n",
       "      <td>0.276635</td>\n",
       "      <td>-0.146841</td>\n",
       "      <td>0.107782</td>\n",
       "      <td>0.095871</td>\n",
       "      <td>-0.047888</td>\n",
       "      <td>-0.169608</td>\n",
       "      <td>-0.048213</td>\n",
       "      <td>0.035654</td>\n",
       "    </tr>\n",
       "    <tr>\n",
       "      <th>Yes</th>\n",
       "      <td>0.061288</td>\n",
       "      <td>-0.067642</td>\n",
       "      <td>0.034543</td>\n",
       "      <td>0.055876</td>\n",
       "      <td>-0.000568</td>\n",
       "      <td>0.276635</td>\n",
       "      <td>1.000000</td>\n",
       "      <td>0.022105</td>\n",
       "      <td>0.184761</td>\n",
       "      <td>0.105187</td>\n",
       "      <td>-0.037762</td>\n",
       "      <td>-0.057677</td>\n",
       "      <td>0.025725</td>\n",
       "      <td>-0.022403</td>\n",
       "    </tr>\n",
       "    <tr>\n",
       "      <th>1</th>\n",
       "      <td>-0.095140</td>\n",
       "      <td>0.195538</td>\n",
       "      <td>0.126933</td>\n",
       "      <td>-0.175480</td>\n",
       "      <td>0.186766</td>\n",
       "      <td>-0.146841</td>\n",
       "      <td>0.022105</td>\n",
       "      <td>1.000000</td>\n",
       "      <td>-0.245629</td>\n",
       "      <td>-0.154086</td>\n",
       "      <td>0.099190</td>\n",
       "      <td>0.125902</td>\n",
       "      <td>-0.001114</td>\n",
       "      <td>0.047792</td>\n",
       "    </tr>\n",
       "    <tr>\n",
       "      <th>2</th>\n",
       "      <td>-0.006386</td>\n",
       "      <td>0.001290</td>\n",
       "      <td>0.053549</td>\n",
       "      <td>-0.045905</td>\n",
       "      <td>0.002834</td>\n",
       "      <td>0.107782</td>\n",
       "      <td>0.184761</td>\n",
       "      <td>-0.245629</td>\n",
       "      <td>1.000000</td>\n",
       "      <td>-0.131428</td>\n",
       "      <td>0.003044</td>\n",
       "      <td>0.024275</td>\n",
       "      <td>-0.022085</td>\n",
       "      <td>0.022277</td>\n",
       "    </tr>\n",
       "    <tr>\n",
       "      <th>3+</th>\n",
       "      <td>-0.017778</td>\n",
       "      <td>0.051431</td>\n",
       "      <td>0.048902</td>\n",
       "      <td>0.023035</td>\n",
       "      <td>0.049057</td>\n",
       "      <td>0.095871</td>\n",
       "      <td>0.105187</td>\n",
       "      <td>-0.154086</td>\n",
       "      <td>-0.131428</td>\n",
       "      <td>1.000000</td>\n",
       "      <td>0.017469</td>\n",
       "      <td>-0.033380</td>\n",
       "      <td>0.004376</td>\n",
       "      <td>-0.015395</td>\n",
       "    </tr>\n",
       "    <tr>\n",
       "      <th>Not Graduate</th>\n",
       "      <td>-0.125925</td>\n",
       "      <td>0.009502</td>\n",
       "      <td>0.046838</td>\n",
       "      <td>-0.195442</td>\n",
       "      <td>-0.002594</td>\n",
       "      <td>-0.047888</td>\n",
       "      <td>-0.037762</td>\n",
       "      <td>0.099190</td>\n",
       "      <td>0.003044</td>\n",
       "      <td>0.017469</td>\n",
       "      <td>1.000000</td>\n",
       "      <td>0.140098</td>\n",
       "      <td>-0.068737</td>\n",
       "      <td>-0.014918</td>\n",
       "    </tr>\n",
       "    <tr>\n",
       "      <th>Yes</th>\n",
       "      <td>-0.158161</td>\n",
       "      <td>0.277425</td>\n",
       "      <td>0.246107</td>\n",
       "      <td>-0.206088</td>\n",
       "      <td>0.275619</td>\n",
       "      <td>-0.169608</td>\n",
       "      <td>-0.057677</td>\n",
       "      <td>0.125902</td>\n",
       "      <td>0.024275</td>\n",
       "      <td>-0.033380</td>\n",
       "      <td>0.140098</td>\n",
       "      <td>1.000000</td>\n",
       "      <td>0.000555</td>\n",
       "      <td>-0.031391</td>\n",
       "    </tr>\n",
       "    <tr>\n",
       "      <th>Semiurban</th>\n",
       "      <td>0.041634</td>\n",
       "      <td>-0.009578</td>\n",
       "      <td>-0.002904</td>\n",
       "      <td>0.046755</td>\n",
       "      <td>-0.032218</td>\n",
       "      <td>-0.048213</td>\n",
       "      <td>0.025725</td>\n",
       "      <td>-0.001114</td>\n",
       "      <td>-0.022085</td>\n",
       "      <td>0.004376</td>\n",
       "      <td>-0.068737</td>\n",
       "      <td>0.000555</td>\n",
       "      <td>1.000000</td>\n",
       "      <td>-0.532554</td>\n",
       "    </tr>\n",
       "    <tr>\n",
       "      <th>Urban</th>\n",
       "      <td>0.000723</td>\n",
       "      <td>-0.012070</td>\n",
       "      <td>-0.067450</td>\n",
       "      <td>-0.037938</td>\n",
       "      <td>-0.010247</td>\n",
       "      <td>0.035654</td>\n",
       "      <td>-0.022403</td>\n",
       "      <td>0.047792</td>\n",
       "      <td>0.022277</td>\n",
       "      <td>-0.015395</td>\n",
       "      <td>-0.014918</td>\n",
       "      <td>-0.031391</td>\n",
       "      <td>-0.532554</td>\n",
       "      <td>1.000000</td>\n",
       "    </tr>\n",
       "  </tbody>\n",
       "</table>\n",
       "</div>"
      ],
      "text/plain": [
       "                      Credit_History  ApplicantIncomeLog  LoanAmountLog  \\\n",
       "Credit_History              1.000000           -0.186594      -0.217911   \n",
       "ApplicantIncomeLog         -0.186594            1.000000       0.532239   \n",
       "LoanAmountLog              -0.217911            0.532239       1.000000   \n",
       "Loan_Amount_Term_Log        0.184632           -0.230076      -0.169187   \n",
       "Total_Income_Log           -0.208199            0.827210       0.634786   \n",
       "Male                        0.137840           -0.099458      -0.068217   \n",
       "Yes                         0.061288           -0.067642       0.034543   \n",
       "1                          -0.095140            0.195538       0.126933   \n",
       "2                          -0.006386            0.001290       0.053549   \n",
       "3+                         -0.017778            0.051431       0.048902   \n",
       "Not Graduate               -0.125925            0.009502       0.046838   \n",
       "Yes                        -0.158161            0.277425       0.246107   \n",
       "Semiurban                   0.041634           -0.009578      -0.002904   \n",
       "Urban                       0.000723           -0.012070      -0.067450   \n",
       "\n",
       "                      Loan_Amount_Term_Log  Total_Income_Log      Male  \\\n",
       "Credit_History                    0.184632         -0.208199  0.137840   \n",
       "ApplicantIncomeLog               -0.230076          0.827210 -0.099458   \n",
       "LoanAmountLog                    -0.169187          0.634786 -0.068217   \n",
       "Loan_Amount_Term_Log              1.000000         -0.258410  0.132191   \n",
       "Total_Income_Log                 -0.258410          1.000000 -0.077572   \n",
       "Male                              0.132191         -0.077572  1.000000   \n",
       "Yes                               0.055876         -0.000568  0.276635   \n",
       "1                                -0.175480          0.186766 -0.146841   \n",
       "2                                -0.045905          0.002834  0.107782   \n",
       "3+                                0.023035          0.049057  0.095871   \n",
       "Not Graduate                     -0.195442         -0.002594 -0.047888   \n",
       "Yes                              -0.206088          0.275619 -0.169608   \n",
       "Semiurban                         0.046755         -0.032218 -0.048213   \n",
       "Urban                            -0.037938         -0.010247  0.035654   \n",
       "\n",
       "                           Yes         1         2        3+  Not Graduate  \\\n",
       "Credit_History        0.061288 -0.095140 -0.006386 -0.017778     -0.125925   \n",
       "ApplicantIncomeLog   -0.067642  0.195538  0.001290  0.051431      0.009502   \n",
       "LoanAmountLog         0.034543  0.126933  0.053549  0.048902      0.046838   \n",
       "Loan_Amount_Term_Log  0.055876 -0.175480 -0.045905  0.023035     -0.195442   \n",
       "Total_Income_Log     -0.000568  0.186766  0.002834  0.049057     -0.002594   \n",
       "Male                  0.276635 -0.146841  0.107782  0.095871     -0.047888   \n",
       "Yes                   1.000000  0.022105  0.184761  0.105187     -0.037762   \n",
       "1                     0.022105  1.000000 -0.245629 -0.154086      0.099190   \n",
       "2                     0.184761 -0.245629  1.000000 -0.131428      0.003044   \n",
       "3+                    0.105187 -0.154086 -0.131428  1.000000      0.017469   \n",
       "Not Graduate         -0.037762  0.099190  0.003044  0.017469      1.000000   \n",
       "Yes                  -0.057677  0.125902  0.024275 -0.033380      0.140098   \n",
       "Semiurban             0.025725 -0.001114 -0.022085  0.004376     -0.068737   \n",
       "Urban                -0.022403  0.047792  0.022277 -0.015395     -0.014918   \n",
       "\n",
       "                           Yes  Semiurban     Urban  \n",
       "Credit_History       -0.158161   0.041634  0.000723  \n",
       "ApplicantIncomeLog    0.277425  -0.009578 -0.012070  \n",
       "LoanAmountLog         0.246107  -0.002904 -0.067450  \n",
       "Loan_Amount_Term_Log -0.206088   0.046755 -0.037938  \n",
       "Total_Income_Log      0.275619  -0.032218 -0.010247  \n",
       "Male                 -0.169608  -0.048213  0.035654  \n",
       "Yes                  -0.057677   0.025725 -0.022403  \n",
       "1                     0.125902  -0.001114  0.047792  \n",
       "2                     0.024275  -0.022085  0.022277  \n",
       "3+                   -0.033380   0.004376 -0.015395  \n",
       "Not Graduate          0.140098  -0.068737 -0.014918  \n",
       "Yes                   1.000000   0.000555 -0.031391  \n",
       "Semiurban             0.000555   1.000000 -0.532554  \n",
       "Urban                -0.031391  -0.532554  1.000000  "
      ]
     },
     "execution_count": 74,
     "metadata": {},
     "output_type": "execute_result"
    }
   ],
   "source": [
    "data.corr()"
   ]
  },
  {
   "cell_type": "code",
   "execution_count": 75,
   "id": "8e9453a3",
   "metadata": {},
   "outputs": [
    {
     "name": "stderr",
     "output_type": "stream",
     "text": [
      "C:\\Users\\anikr\\AppData\\Local\\Temp\\ipykernel_15616\\3745576415.py:1: FutureWarning: The default value of numeric_only in DataFrame.corr is deprecated. In a future version, it will default to False. Select only valid columns or specify the value of numeric_only to silence this warning.\n",
      "  sns.heatmap(data.corr());\n"
     ]
    },
    {
     "data": {
      "image/png": "[encoded data removed]",
      "text/plain": [
       "<Figure size 640x480 with 2 Axes>"
      ]
     },
     "metadata": {},
     "output_type": "display_data"
    }
   ],
   "source": [
    "sns.heatmap(data.corr());"
   ]
  },
  {
   "cell_type": "code",
   "execution_count": 76,
   "id": "668db4b1",
   "metadata": {},
   "outputs": [],
   "source": [
    "#Stratified sampling on output class"
   ]
  },
  {
   "cell_type": "code",
   "execution_count": 77,
   "id": "f2015684",
   "metadata": {},
   "outputs": [
    {
     "data": {
      "text/plain": [
       "Y    71.867322\n",
       "N    28.132678\n",
       "Name: Loan_Status, dtype: float64"
      ]
     },
     "execution_count": 77,
     "metadata": {},
     "output_type": "execute_result"
    }
   ],
   "source": [
    "data['Loan_Status'].value_counts()/len(data)*100"
   ]
  },
  {
   "cell_type": "code",
   "execution_count": 78,
   "id": "2c92051f",
   "metadata": {},
   "outputs": [
    {
     "data": {
      "text/html": [
       "<div>\n",
       "<style scoped>\n",
       "    .dataframe tbody tr th:only-of-type {\n",
       "        vertical-align: middle;\n",
       "    }\n",
       "\n",
       "    .dataframe tbody tr th {\n",
       "        vertical-align: top;\n",
       "    }\n",
       "\n",
       "    .dataframe thead th {\n",
       "        text-align: right;\n",
       "    }\n",
       "</style>\n",
       "<table border=\"1\" class=\"dataframe\">\n",
       "  <thead>\n",
       "    <tr style=\"text-align: right;\">\n",
       "      <th></th>\n",
       "      <th>Credit_History</th>\n",
       "      <th>Loan_Status</th>\n",
       "      <th>ApplicantIncomeLog</th>\n",
       "      <th>LoanAmountLog</th>\n",
       "      <th>Loan_Amount_Term_Log</th>\n",
       "      <th>Total_Income_Log</th>\n",
       "      <th>Male</th>\n",
       "      <th>Yes</th>\n",
       "      <th>1</th>\n",
       "      <th>2</th>\n",
       "      <th>3+</th>\n",
       "      <th>Not Graduate</th>\n",
       "      <th>Yes</th>\n",
       "      <th>Semiurban</th>\n",
       "      <th>Urban</th>\n",
       "    </tr>\n",
       "  </thead>\n",
       "  <tbody>\n",
       "    <tr>\n",
       "      <th>282</th>\n",
       "      <td>0.0</td>\n",
       "      <td>N</td>\n",
       "      <td>8.557951</td>\n",
       "      <td>4.976734</td>\n",
       "      <td>5.886104</td>\n",
       "      <td>8.557951</td>\n",
       "      <td>0</td>\n",
       "      <td>0</td>\n",
       "      <td>0</td>\n",
       "      <td>0</td>\n",
       "      <td>0</td>\n",
       "      <td>0</td>\n",
       "      <td>0</td>\n",
       "      <td>1</td>\n",
       "      <td>0</td>\n",
       "    </tr>\n",
       "    <tr>\n",
       "      <th>227</th>\n",
       "      <td>1.0</td>\n",
       "      <td>N</td>\n",
       "      <td>8.597113</td>\n",
       "      <td>4.927254</td>\n",
       "      <td>5.886104</td>\n",
       "      <td>9.045466</td>\n",
       "      <td>1</td>\n",
       "      <td>1</td>\n",
       "      <td>0</td>\n",
       "      <td>0</td>\n",
       "      <td>0</td>\n",
       "      <td>0</td>\n",
       "      <td>0</td>\n",
       "      <td>0</td>\n",
       "      <td>1</td>\n",
       "    </tr>\n",
       "    <tr>\n",
       "      <th>796</th>\n",
       "      <td>1.0</td>\n",
       "      <td>N</td>\n",
       "      <td>9.241257</td>\n",
       "      <td>6.398595</td>\n",
       "      <td>5.192957</td>\n",
       "      <td>9.241257</td>\n",
       "      <td>0</td>\n",
       "      <td>0</td>\n",
       "      <td>0</td>\n",
       "      <td>1</td>\n",
       "      <td>0</td>\n",
       "      <td>1</td>\n",
       "      <td>0</td>\n",
       "      <td>0</td>\n",
       "      <td>1</td>\n",
       "    </tr>\n",
       "    <tr>\n",
       "      <th>808</th>\n",
       "      <td>1.0</td>\n",
       "      <td>N</td>\n",
       "      <td>10.039591</td>\n",
       "      <td>6.437752</td>\n",
       "      <td>5.886104</td>\n",
       "      <td>10.039591</td>\n",
       "      <td>1</td>\n",
       "      <td>1</td>\n",
       "      <td>1</td>\n",
       "      <td>0</td>\n",
       "      <td>0</td>\n",
       "      <td>0</td>\n",
       "      <td>0</td>\n",
       "      <td>0</td>\n",
       "      <td>1</td>\n",
       "    </tr>\n",
       "    <tr>\n",
       "      <th>584</th>\n",
       "      <td>1.0</td>\n",
       "      <td>Y</td>\n",
       "      <td>9.388487</td>\n",
       "      <td>5.476464</td>\n",
       "      <td>5.886104</td>\n",
       "      <td>9.388487</td>\n",
       "      <td>1</td>\n",
       "      <td>1</td>\n",
       "      <td>0</td>\n",
       "      <td>0</td>\n",
       "      <td>0</td>\n",
       "      <td>0</td>\n",
       "      <td>1</td>\n",
       "      <td>1</td>\n",
       "      <td>0</td>\n",
       "    </tr>\n",
       "    <tr>\n",
       "      <th>32</th>\n",
       "      <td>1.0</td>\n",
       "      <td>Y</td>\n",
       "      <td>9.715832</td>\n",
       "      <td>3.912023</td>\n",
       "      <td>5.886104</td>\n",
       "      <td>9.715832</td>\n",
       "      <td>0</td>\n",
       "      <td>0</td>\n",
       "      <td>1</td>\n",
       "      <td>0</td>\n",
       "      <td>0</td>\n",
       "      <td>0</td>\n",
       "      <td>0</td>\n",
       "      <td>0</td>\n",
       "      <td>1</td>\n",
       "    </tr>\n",
       "    <tr>\n",
       "      <th>723</th>\n",
       "      <td>1.0</td>\n",
       "      <td>Y</td>\n",
       "      <td>9.675331</td>\n",
       "      <td>5.998937</td>\n",
       "      <td>4.787492</td>\n",
       "      <td>9.972127</td>\n",
       "      <td>1</td>\n",
       "      <td>1</td>\n",
       "      <td>0</td>\n",
       "      <td>0</td>\n",
       "      <td>0</td>\n",
       "      <td>0</td>\n",
       "      <td>0</td>\n",
       "      <td>0</td>\n",
       "      <td>1</td>\n",
       "    </tr>\n",
       "    <tr>\n",
       "      <th>399</th>\n",
       "      <td>1.0</td>\n",
       "      <td>Y</td>\n",
       "      <td>8.383662</td>\n",
       "      <td>5.129899</td>\n",
       "      <td>5.886104</td>\n",
       "      <td>8.653296</td>\n",
       "      <td>1</td>\n",
       "      <td>1</td>\n",
       "      <td>1</td>\n",
       "      <td>0</td>\n",
       "      <td>0</td>\n",
       "      <td>1</td>\n",
       "      <td>0</td>\n",
       "      <td>0</td>\n",
       "      <td>1</td>\n",
       "    </tr>\n",
       "  </tbody>\n",
       "</table>\n",
       "</div>"
      ],
      "text/plain": [
       "     Credit_History Loan_Status  ApplicantIncomeLog  LoanAmountLog  \\\n",
       "282             0.0           N            8.557951       4.976734   \n",
       "227             1.0           N            8.597113       4.927254   \n",
       "796             1.0           N            9.241257       6.398595   \n",
       "808             1.0           N           10.039591       6.437752   \n",
       "584             1.0           Y            9.388487       5.476464   \n",
       "32              1.0           Y            9.715832       3.912023   \n",
       "723             1.0           Y            9.675331       5.998937   \n",
       "399             1.0           Y            8.383662       5.129899   \n",
       "\n",
       "     Loan_Amount_Term_Log  Total_Income_Log  Male  Yes  1  2  3+  \\\n",
       "282              5.886104          8.557951     0    0  0  0   0   \n",
       "227              5.886104          9.045466     1    1  0  0   0   \n",
       "796              5.192957          9.241257     0    0  0  1   0   \n",
       "808              5.886104         10.039591     1    1  1  0   0   \n",
       "584              5.886104          9.388487     1    1  0  0   0   \n",
       "32               5.886104          9.715832     0    0  1  0   0   \n",
       "723              4.787492          9.972127     1    1  0  0   0   \n",
       "399              5.886104          8.653296     1    1  1  0   0   \n",
       "\n",
       "     Not Graduate  Yes  Semiurban  Urban  \n",
       "282             0    0          1      0  \n",
       "227             0    0          0      1  \n",
       "796             1    0          0      1  \n",
       "808             0    0          0      1  \n",
       "584             0    1          1      0  \n",
       "32              0    0          0      1  \n",
       "723             0    0          0      1  \n",
       "399             1    0          0      1  "
      ]
     },
     "execution_count": 78,
     "metadata": {},
     "output_type": "execute_result"
    }
   ],
   "source": [
    "data.groupby('Loan_Status', group_keys=False).apply(lambda x: x.sample(4))"
   ]
  },
  {
   "cell_type": "code",
   "execution_count": 79,
   "id": "7b8625e9",
   "metadata": {},
   "outputs": [
    {
     "data": {
      "text/html": [
       "<div>\n",
       "<style scoped>\n",
       "    .dataframe tbody tr th:only-of-type {\n",
       "        vertical-align: middle;\n",
       "    }\n",
       "\n",
       "    .dataframe tbody tr th {\n",
       "        vertical-align: top;\n",
       "    }\n",
       "\n",
       "    .dataframe thead th {\n",
       "        text-align: right;\n",
       "    }\n",
       "</style>\n",
       "<table border=\"1\" class=\"dataframe\">\n",
       "  <thead>\n",
       "    <tr style=\"text-align: right;\">\n",
       "      <th></th>\n",
       "      <th>Credit_History</th>\n",
       "      <th>Loan_Status</th>\n",
       "      <th>ApplicantIncomeLog</th>\n",
       "      <th>LoanAmountLog</th>\n",
       "      <th>Loan_Amount_Term_Log</th>\n",
       "      <th>Total_Income_Log</th>\n",
       "      <th>Male</th>\n",
       "      <th>Yes</th>\n",
       "      <th>1</th>\n",
       "      <th>2</th>\n",
       "      <th>3+</th>\n",
       "      <th>Not Graduate</th>\n",
       "      <th>Yes</th>\n",
       "      <th>Semiurban</th>\n",
       "      <th>Urban</th>\n",
       "    </tr>\n",
       "  </thead>\n",
       "  <tbody>\n",
       "    <tr>\n",
       "      <th>446</th>\n",
       "      <td>1.0</td>\n",
       "      <td>N</td>\n",
       "      <td>8.988196</td>\n",
       "      <td>5.236442</td>\n",
       "      <td>5.886104</td>\n",
       "      <td>8.988196</td>\n",
       "      <td>1</td>\n",
       "      <td>1</td>\n",
       "      <td>0</td>\n",
       "      <td>0</td>\n",
       "      <td>1</td>\n",
       "      <td>0</td>\n",
       "      <td>0</td>\n",
       "      <td>1</td>\n",
       "      <td>0</td>\n",
       "    </tr>\n",
       "    <tr>\n",
       "      <th>569</th>\n",
       "      <td>0.0</td>\n",
       "      <td>N</td>\n",
       "      <td>9.474242</td>\n",
       "      <td>5.455321</td>\n",
       "      <td>5.886104</td>\n",
       "      <td>9.474242</td>\n",
       "      <td>1</td>\n",
       "      <td>0</td>\n",
       "      <td>0</td>\n",
       "      <td>0</td>\n",
       "      <td>0</td>\n",
       "      <td>0</td>\n",
       "      <td>1</td>\n",
       "      <td>0</td>\n",
       "      <td>1</td>\n",
       "    </tr>\n",
       "    <tr>\n",
       "      <th>426</th>\n",
       "      <td>1.0</td>\n",
       "      <td>Y</td>\n",
       "      <td>8.517193</td>\n",
       "      <td>5.164786</td>\n",
       "      <td>5.886104</td>\n",
       "      <td>9.002701</td>\n",
       "      <td>1</td>\n",
       "      <td>0</td>\n",
       "      <td>0</td>\n",
       "      <td>0</td>\n",
       "      <td>0</td>\n",
       "      <td>0</td>\n",
       "      <td>0</td>\n",
       "      <td>0</td>\n",
       "      <td>0</td>\n",
       "    </tr>\n",
       "    <tr>\n",
       "      <th>252</th>\n",
       "      <td>1.0</td>\n",
       "      <td>Y</td>\n",
       "      <td>8.498826</td>\n",
       "      <td>4.941642</td>\n",
       "      <td>5.886104</td>\n",
       "      <td>8.684232</td>\n",
       "      <td>1</td>\n",
       "      <td>1</td>\n",
       "      <td>0</td>\n",
       "      <td>0</td>\n",
       "      <td>0</td>\n",
       "      <td>0</td>\n",
       "      <td>0</td>\n",
       "      <td>1</td>\n",
       "      <td>0</td>\n",
       "    </tr>\n",
       "    <tr>\n",
       "      <th>276</th>\n",
       "      <td>1.0</td>\n",
       "      <td>Y</td>\n",
       "      <td>8.452761</td>\n",
       "      <td>4.976734</td>\n",
       "      <td>5.886104</td>\n",
       "      <td>8.452761</td>\n",
       "      <td>1</td>\n",
       "      <td>1</td>\n",
       "      <td>1</td>\n",
       "      <td>0</td>\n",
       "      <td>0</td>\n",
       "      <td>0</td>\n",
       "      <td>0</td>\n",
       "      <td>1</td>\n",
       "      <td>0</td>\n",
       "    </tr>\n",
       "    <tr>\n",
       "      <th>670</th>\n",
       "      <td>1.0</td>\n",
       "      <td>Y</td>\n",
       "      <td>9.447308</td>\n",
       "      <td>5.783825</td>\n",
       "      <td>5.886104</td>\n",
       "      <td>9.447308</td>\n",
       "      <td>1</td>\n",
       "      <td>1</td>\n",
       "      <td>0</td>\n",
       "      <td>0</td>\n",
       "      <td>1</td>\n",
       "      <td>0</td>\n",
       "      <td>1</td>\n",
       "      <td>1</td>\n",
       "      <td>0</td>\n",
       "    </tr>\n",
       "    <tr>\n",
       "      <th>333</th>\n",
       "      <td>1.0</td>\n",
       "      <td>Y</td>\n",
       "      <td>8.833463</td>\n",
       "      <td>5.049856</td>\n",
       "      <td>5.886104</td>\n",
       "      <td>8.833463</td>\n",
       "      <td>1</td>\n",
       "      <td>1</td>\n",
       "      <td>0</td>\n",
       "      <td>0</td>\n",
       "      <td>0</td>\n",
       "      <td>0</td>\n",
       "      <td>0</td>\n",
       "      <td>0</td>\n",
       "      <td>0</td>\n",
       "    </tr>\n",
       "    <tr>\n",
       "      <th>544</th>\n",
       "      <td>1.0</td>\n",
       "      <td>Y</td>\n",
       "      <td>9.429797</td>\n",
       "      <td>5.416100</td>\n",
       "      <td>5.886104</td>\n",
       "      <td>9.429797</td>\n",
       "      <td>1</td>\n",
       "      <td>1</td>\n",
       "      <td>0</td>\n",
       "      <td>0</td>\n",
       "      <td>0</td>\n",
       "      <td>0</td>\n",
       "      <td>1</td>\n",
       "      <td>0</td>\n",
       "      <td>0</td>\n",
       "    </tr>\n",
       "  </tbody>\n",
       "</table>\n",
       "</div>"
      ],
      "text/plain": [
       "     Credit_History Loan_Status  ApplicantIncomeLog  LoanAmountLog  \\\n",
       "446             1.0           N            8.988196       5.236442   \n",
       "569             0.0           N            9.474242       5.455321   \n",
       "426             1.0           Y            8.517193       5.164786   \n",
       "252             1.0           Y            8.498826       4.941642   \n",
       "276             1.0           Y            8.452761       4.976734   \n",
       "670             1.0           Y            9.447308       5.783825   \n",
       "333             1.0           Y            8.833463       5.049856   \n",
       "544             1.0           Y            9.429797       5.416100   \n",
       "\n",
       "     Loan_Amount_Term_Log  Total_Income_Log  Male  Yes  1  2  3+  \\\n",
       "446              5.886104          8.988196     1    1  0  0   1   \n",
       "569              5.886104          9.474242     1    0  0  0   0   \n",
       "426              5.886104          9.002701     1    0  0  0   0   \n",
       "252              5.886104          8.684232     1    1  0  0   0   \n",
       "276              5.886104          8.452761     1    1  1  0   0   \n",
       "670              5.886104          9.447308     1    1  0  0   1   \n",
       "333              5.886104          8.833463     1    1  0  0   0   \n",
       "544              5.886104          9.429797     1    1  0  0   0   \n",
       "\n",
       "     Not Graduate  Yes  Semiurban  Urban  \n",
       "446             0    0          1      0  \n",
       "569             0    1          0      1  \n",
       "426             0    0          0      0  \n",
       "252             0    0          1      0  \n",
       "276             0    0          1      0  \n",
       "670             0    1          1      0  \n",
       "333             0    0          0      0  \n",
       "544             0    1          0      0  "
      ]
     },
     "execution_count": 79,
     "metadata": {},
     "output_type": "execute_result"
    }
   ],
   "source": [
    "data.groupby('Loan_Status', group_keys=False).apply(lambda x: x.sample(frac=0.01))"
   ]
  },
  {
   "cell_type": "code",
   "execution_count": 80,
   "id": "713166bc",
   "metadata": {},
   "outputs": [
    {
     "data": {
      "text/html": [
       "<div>\n",
       "<style scoped>\n",
       "    .dataframe tbody tr th:only-of-type {\n",
       "        vertical-align: middle;\n",
       "    }\n",
       "\n",
       "    .dataframe tbody tr th {\n",
       "        vertical-align: top;\n",
       "    }\n",
       "\n",
       "    .dataframe thead th {\n",
       "        text-align: right;\n",
       "    }\n",
       "</style>\n",
       "<table border=\"1\" class=\"dataframe\">\n",
       "  <thead>\n",
       "    <tr style=\"text-align: right;\">\n",
       "      <th></th>\n",
       "      <th>Credit_History</th>\n",
       "      <th>ApplicantIncomeLog</th>\n",
       "      <th>LoanAmountLog</th>\n",
       "      <th>Loan_Amount_Term_Log</th>\n",
       "      <th>Total_Income_Log</th>\n",
       "      <th>Male</th>\n",
       "      <th>Yes</th>\n",
       "      <th>1</th>\n",
       "      <th>2</th>\n",
       "      <th>3+</th>\n",
       "      <th>Not Graduate</th>\n",
       "      <th>Yes</th>\n",
       "      <th>Semiurban</th>\n",
       "      <th>Urban</th>\n",
       "    </tr>\n",
       "  </thead>\n",
       "  <tbody>\n",
       "    <tr>\n",
       "      <th>0</th>\n",
       "      <td>1.000000</td>\n",
       "      <td>8.874868</td>\n",
       "      <td>4.927254</td>\n",
       "      <td>5.886104</td>\n",
       "      <td>8.874868</td>\n",
       "      <td>1</td>\n",
       "      <td>1</td>\n",
       "      <td>0</td>\n",
       "      <td>0</td>\n",
       "      <td>0</td>\n",
       "      <td>0</td>\n",
       "      <td>0</td>\n",
       "      <td>0</td>\n",
       "      <td>1</td>\n",
       "    </tr>\n",
       "    <tr>\n",
       "      <th>1</th>\n",
       "      <td>1.000000</td>\n",
       "      <td>8.254529</td>\n",
       "      <td>5.062595</td>\n",
       "      <td>5.886104</td>\n",
       "      <td>8.651724</td>\n",
       "      <td>1</td>\n",
       "      <td>1</td>\n",
       "      <td>1</td>\n",
       "      <td>0</td>\n",
       "      <td>0</td>\n",
       "      <td>0</td>\n",
       "      <td>0</td>\n",
       "      <td>0</td>\n",
       "      <td>1</td>\n",
       "    </tr>\n",
       "    <tr>\n",
       "      <th>2</th>\n",
       "      <td>1.000000</td>\n",
       "      <td>8.740337</td>\n",
       "      <td>5.560682</td>\n",
       "      <td>5.886104</td>\n",
       "      <td>9.047821</td>\n",
       "      <td>1</td>\n",
       "      <td>1</td>\n",
       "      <td>0</td>\n",
       "      <td>1</td>\n",
       "      <td>0</td>\n",
       "      <td>0</td>\n",
       "      <td>0</td>\n",
       "      <td>0</td>\n",
       "      <td>1</td>\n",
       "    </tr>\n",
       "    <tr>\n",
       "      <th>3</th>\n",
       "      <td>0.825444</td>\n",
       "      <td>7.981050</td>\n",
       "      <td>4.828314</td>\n",
       "      <td>5.886104</td>\n",
       "      <td>8.717355</td>\n",
       "      <td>1</td>\n",
       "      <td>1</td>\n",
       "      <td>0</td>\n",
       "      <td>1</td>\n",
       "      <td>0</td>\n",
       "      <td>0</td>\n",
       "      <td>0</td>\n",
       "      <td>0</td>\n",
       "      <td>1</td>\n",
       "    </tr>\n",
       "    <tr>\n",
       "      <th>4</th>\n",
       "      <td>1.000000</td>\n",
       "      <td>8.317522</td>\n",
       "      <td>4.584967</td>\n",
       "      <td>5.886104</td>\n",
       "      <td>8.317522</td>\n",
       "      <td>1</td>\n",
       "      <td>0</td>\n",
       "      <td>0</td>\n",
       "      <td>0</td>\n",
       "      <td>0</td>\n",
       "      <td>1</td>\n",
       "      <td>0</td>\n",
       "      <td>0</td>\n",
       "      <td>1</td>\n",
       "    </tr>\n",
       "  </tbody>\n",
       "</table>\n",
       "</div>"
      ],
      "text/plain": [
       "   Credit_History  ApplicantIncomeLog  LoanAmountLog  Loan_Amount_Term_Log  \\\n",
       "0        1.000000            8.874868       4.927254              5.886104   \n",
       "1        1.000000            8.254529       5.062595              5.886104   \n",
       "2        1.000000            8.740337       5.560682              5.886104   \n",
       "3        0.825444            7.981050       4.828314              5.886104   \n",
       "4        1.000000            8.317522       4.584967              5.886104   \n",
       "\n",
       "   Total_Income_Log  Male  Yes  1  2  3+  Not Graduate  Yes  Semiurban  Urban  \n",
       "0          8.874868     1    1  0  0   0             0    0          0      1  \n",
       "1          8.651724     1    1  1  0   0             0    0          0      1  \n",
       "2          9.047821     1    1  0  1   0             0    0          0      1  \n",
       "3          8.717355     1    1  0  1   0             0    0          0      1  \n",
       "4          8.317522     1    0  0  0   0             1    0          0      1  "
      ]
     },
     "execution_count": 80,
     "metadata": {},
     "output_type": "execute_result"
    }
   ],
   "source": [
    "test.head()"
   ]
  },
  {
   "cell_type": "code",
   "execution_count": 81,
   "id": "f6165402",
   "metadata": {},
   "outputs": [
    {
     "data": {
      "text/html": [
       "<div>\n",
       "<style scoped>\n",
       "    .dataframe tbody tr th:only-of-type {\n",
       "        vertical-align: middle;\n",
       "    }\n",
       "\n",
       "    .dataframe tbody tr th {\n",
       "        vertical-align: top;\n",
       "    }\n",
       "\n",
       "    .dataframe thead th {\n",
       "        text-align: right;\n",
       "    }\n",
       "</style>\n",
       "<table border=\"1\" class=\"dataframe\">\n",
       "  <thead>\n",
       "    <tr style=\"text-align: right;\">\n",
       "      <th></th>\n",
       "      <th>Credit_History</th>\n",
       "      <th>Loan_Status</th>\n",
       "      <th>ApplicantIncomeLog</th>\n",
       "      <th>LoanAmountLog</th>\n",
       "      <th>Loan_Amount_Term_Log</th>\n",
       "      <th>Total_Income_Log</th>\n",
       "      <th>Male</th>\n",
       "      <th>Yes</th>\n",
       "      <th>1</th>\n",
       "      <th>2</th>\n",
       "      <th>3+</th>\n",
       "      <th>Not Graduate</th>\n",
       "      <th>Yes</th>\n",
       "      <th>Semiurban</th>\n",
       "      <th>Urban</th>\n",
       "    </tr>\n",
       "  </thead>\n",
       "  <tbody>\n",
       "    <tr>\n",
       "      <th>0</th>\n",
       "      <td>1.0</td>\n",
       "      <td>Y</td>\n",
       "      <td>9.744668</td>\n",
       "      <td>5.400092</td>\n",
       "      <td>5.886104</td>\n",
       "      <td>9.744668</td>\n",
       "      <td>1</td>\n",
       "      <td>1</td>\n",
       "      <td>0</td>\n",
       "      <td>0</td>\n",
       "      <td>0</td>\n",
       "      <td>0</td>\n",
       "      <td>0</td>\n",
       "      <td>0</td>\n",
       "      <td>1</td>\n",
       "    </tr>\n",
       "    <tr>\n",
       "      <th>1</th>\n",
       "      <td>0.0</td>\n",
       "      <td>N</td>\n",
       "      <td>8.729235</td>\n",
       "      <td>5.400092</td>\n",
       "      <td>5.886104</td>\n",
       "      <td>8.729235</td>\n",
       "      <td>1</td>\n",
       "      <td>1</td>\n",
       "      <td>1</td>\n",
       "      <td>0</td>\n",
       "      <td>0</td>\n",
       "      <td>0</td>\n",
       "      <td>0</td>\n",
       "      <td>0</td>\n",
       "      <td>0</td>\n",
       "    </tr>\n",
       "    <tr>\n",
       "      <th>2</th>\n",
       "      <td>1.0</td>\n",
       "      <td>Y</td>\n",
       "      <td>7.925158</td>\n",
       "      <td>5.400092</td>\n",
       "      <td>5.886104</td>\n",
       "      <td>8.336151</td>\n",
       "      <td>1</td>\n",
       "      <td>1</td>\n",
       "      <td>0</td>\n",
       "      <td>0</td>\n",
       "      <td>0</td>\n",
       "      <td>0</td>\n",
       "      <td>0</td>\n",
       "      <td>0</td>\n",
       "      <td>1</td>\n",
       "    </tr>\n",
       "    <tr>\n",
       "      <th>3</th>\n",
       "      <td>1.0</td>\n",
       "      <td>N</td>\n",
       "      <td>8.674197</td>\n",
       "      <td>5.400092</td>\n",
       "      <td>5.886104</td>\n",
       "      <td>9.042986</td>\n",
       "      <td>1</td>\n",
       "      <td>0</td>\n",
       "      <td>0</td>\n",
       "      <td>0</td>\n",
       "      <td>0</td>\n",
       "      <td>0</td>\n",
       "      <td>0</td>\n",
       "      <td>1</td>\n",
       "      <td>0</td>\n",
       "    </tr>\n",
       "    <tr>\n",
       "      <th>4</th>\n",
       "      <td>1.0</td>\n",
       "      <td>N</td>\n",
       "      <td>8.211754</td>\n",
       "      <td>5.400092</td>\n",
       "      <td>5.886104</td>\n",
       "      <td>8.646114</td>\n",
       "      <td>1</td>\n",
       "      <td>1</td>\n",
       "      <td>0</td>\n",
       "      <td>1</td>\n",
       "      <td>0</td>\n",
       "      <td>0</td>\n",
       "      <td>0</td>\n",
       "      <td>0</td>\n",
       "      <td>1</td>\n",
       "    </tr>\n",
       "  </tbody>\n",
       "</table>\n",
       "</div>"
      ],
      "text/plain": [
       "   Credit_History Loan_Status  ApplicantIncomeLog  LoanAmountLog  \\\n",
       "0             1.0           Y            9.744668       5.400092   \n",
       "1             0.0           N            8.729235       5.400092   \n",
       "2             1.0           Y            7.925158       5.400092   \n",
       "3             1.0           N            8.674197       5.400092   \n",
       "4             1.0           N            8.211754       5.400092   \n",
       "\n",
       "   Loan_Amount_Term_Log  Total_Income_Log  Male  Yes  1  2  3+  Not Graduate  \\\n",
       "0              5.886104          9.744668     1    1  0  0   0             0   \n",
       "1              5.886104          8.729235     1    1  1  0   0             0   \n",
       "2              5.886104          8.336151     1    1  0  0   0             0   \n",
       "3              5.886104          9.042986     1    0  0  0   0             0   \n",
       "4              5.886104          8.646114     1    1  0  1   0             0   \n",
       "\n",
       "   Yes  Semiurban  Urban  \n",
       "0    0          0      1  \n",
       "1    0          0      0  \n",
       "2    0          0      1  \n",
       "3    0          1      0  \n",
       "4    0          0      1  "
      ]
     },
     "execution_count": 81,
     "metadata": {},
     "output_type": "execute_result"
    }
   ],
   "source": [
    "data.head()"
   ]
  },
  {
   "cell_type": "code",
   "execution_count": 82,
   "id": "c918310b",
   "metadata": {},
   "outputs": [],
   "source": [
    "x = data.drop(columns=['Loan_Status'], axis=1)\n",
    "y = data['Loan_Status']"
   ]
  },
  {
   "cell_type": "code",
   "execution_count": 83,
   "id": "ac351054",
   "metadata": {},
   "outputs": [
    {
     "data": {
      "text/html": [
       "<div>\n",
       "<style scoped>\n",
       "    .dataframe tbody tr th:only-of-type {\n",
       "        vertical-align: middle;\n",
       "    }\n",
       "\n",
       "    .dataframe tbody tr th {\n",
       "        vertical-align: top;\n",
       "    }\n",
       "\n",
       "    .dataframe thead th {\n",
       "        text-align: right;\n",
       "    }\n",
       "</style>\n",
       "<table border=\"1\" class=\"dataframe\">\n",
       "  <thead>\n",
       "    <tr style=\"text-align: right;\">\n",
       "      <th></th>\n",
       "      <th>Credit_History</th>\n",
       "      <th>ApplicantIncomeLog</th>\n",
       "      <th>LoanAmountLog</th>\n",
       "      <th>Loan_Amount_Term_Log</th>\n",
       "      <th>Total_Income_Log</th>\n",
       "      <th>Male</th>\n",
       "      <th>Yes</th>\n",
       "      <th>1</th>\n",
       "      <th>2</th>\n",
       "      <th>3+</th>\n",
       "      <th>Not Graduate</th>\n",
       "      <th>Yes</th>\n",
       "      <th>Semiurban</th>\n",
       "      <th>Urban</th>\n",
       "    </tr>\n",
       "  </thead>\n",
       "  <tbody>\n",
       "    <tr>\n",
       "      <th>0</th>\n",
       "      <td>1.000000</td>\n",
       "      <td>9.744668</td>\n",
       "      <td>5.400092</td>\n",
       "      <td>5.886104</td>\n",
       "      <td>9.744668</td>\n",
       "      <td>1</td>\n",
       "      <td>1</td>\n",
       "      <td>0</td>\n",
       "      <td>0</td>\n",
       "      <td>0</td>\n",
       "      <td>0</td>\n",
       "      <td>0</td>\n",
       "      <td>0</td>\n",
       "      <td>1</td>\n",
       "    </tr>\n",
       "    <tr>\n",
       "      <th>1</th>\n",
       "      <td>0.000000</td>\n",
       "      <td>8.729235</td>\n",
       "      <td>5.400092</td>\n",
       "      <td>5.886104</td>\n",
       "      <td>8.729235</td>\n",
       "      <td>1</td>\n",
       "      <td>1</td>\n",
       "      <td>1</td>\n",
       "      <td>0</td>\n",
       "      <td>0</td>\n",
       "      <td>0</td>\n",
       "      <td>0</td>\n",
       "      <td>0</td>\n",
       "      <td>0</td>\n",
       "    </tr>\n",
       "    <tr>\n",
       "      <th>2</th>\n",
       "      <td>1.000000</td>\n",
       "      <td>7.925158</td>\n",
       "      <td>5.400092</td>\n",
       "      <td>5.886104</td>\n",
       "      <td>8.336151</td>\n",
       "      <td>1</td>\n",
       "      <td>1</td>\n",
       "      <td>0</td>\n",
       "      <td>0</td>\n",
       "      <td>0</td>\n",
       "      <td>0</td>\n",
       "      <td>0</td>\n",
       "      <td>0</td>\n",
       "      <td>1</td>\n",
       "    </tr>\n",
       "    <tr>\n",
       "      <th>3</th>\n",
       "      <td>1.000000</td>\n",
       "      <td>8.674197</td>\n",
       "      <td>5.400092</td>\n",
       "      <td>5.886104</td>\n",
       "      <td>9.042986</td>\n",
       "      <td>1</td>\n",
       "      <td>0</td>\n",
       "      <td>0</td>\n",
       "      <td>0</td>\n",
       "      <td>0</td>\n",
       "      <td>0</td>\n",
       "      <td>0</td>\n",
       "      <td>1</td>\n",
       "      <td>0</td>\n",
       "    </tr>\n",
       "    <tr>\n",
       "      <th>4</th>\n",
       "      <td>1.000000</td>\n",
       "      <td>8.211754</td>\n",
       "      <td>5.400092</td>\n",
       "      <td>5.886104</td>\n",
       "      <td>8.646114</td>\n",
       "      <td>1</td>\n",
       "      <td>1</td>\n",
       "      <td>0</td>\n",
       "      <td>1</td>\n",
       "      <td>0</td>\n",
       "      <td>0</td>\n",
       "      <td>0</td>\n",
       "      <td>0</td>\n",
       "      <td>1</td>\n",
       "    </tr>\n",
       "    <tr>\n",
       "      <th>...</th>\n",
       "      <td>...</td>\n",
       "      <td>...</td>\n",
       "      <td>...</td>\n",
       "      <td>...</td>\n",
       "      <td>...</td>\n",
       "      <td>...</td>\n",
       "      <td>...</td>\n",
       "      <td>...</td>\n",
       "      <td>...</td>\n",
       "      <td>...</td>\n",
       "      <td>...</td>\n",
       "      <td>...</td>\n",
       "      <td>...</td>\n",
       "      <td>...</td>\n",
       "    </tr>\n",
       "    <tr>\n",
       "      <th>809</th>\n",
       "      <td>1.000000</td>\n",
       "      <td>10.113059</td>\n",
       "      <td>6.569481</td>\n",
       "      <td>5.886104</td>\n",
       "      <td>10.349647</td>\n",
       "      <td>1</td>\n",
       "      <td>1</td>\n",
       "      <td>0</td>\n",
       "      <td>0</td>\n",
       "      <td>0</td>\n",
       "      <td>0</td>\n",
       "      <td>0</td>\n",
       "      <td>0</td>\n",
       "      <td>0</td>\n",
       "    </tr>\n",
       "    <tr>\n",
       "      <th>810</th>\n",
       "      <td>0.000000</td>\n",
       "      <td>10.819758</td>\n",
       "      <td>6.620073</td>\n",
       "      <td>5.192957</td>\n",
       "      <td>10.819758</td>\n",
       "      <td>1</td>\n",
       "      <td>1</td>\n",
       "      <td>0</td>\n",
       "      <td>0</td>\n",
       "      <td>1</td>\n",
       "      <td>0</td>\n",
       "      <td>0</td>\n",
       "      <td>1</td>\n",
       "      <td>0</td>\n",
       "    </tr>\n",
       "    <tr>\n",
       "      <th>811</th>\n",
       "      <td>1.000000</td>\n",
       "      <td>10.100492</td>\n",
       "      <td>6.620073</td>\n",
       "      <td>5.886104</td>\n",
       "      <td>10.100492</td>\n",
       "      <td>0</td>\n",
       "      <td>1</td>\n",
       "      <td>1</td>\n",
       "      <td>0</td>\n",
       "      <td>0</td>\n",
       "      <td>0</td>\n",
       "      <td>1</td>\n",
       "      <td>1</td>\n",
       "      <td>0</td>\n",
       "    </tr>\n",
       "    <tr>\n",
       "      <th>812</th>\n",
       "      <td>0.739529</td>\n",
       "      <td>10.134917</td>\n",
       "      <td>6.700731</td>\n",
       "      <td>6.173786</td>\n",
       "      <td>10.134917</td>\n",
       "      <td>1</td>\n",
       "      <td>0</td>\n",
       "      <td>0</td>\n",
       "      <td>0</td>\n",
       "      <td>0</td>\n",
       "      <td>0</td>\n",
       "      <td>1</td>\n",
       "      <td>0</td>\n",
       "      <td>1</td>\n",
       "    </tr>\n",
       "    <tr>\n",
       "      <th>813</th>\n",
       "      <td>1.000000</td>\n",
       "      <td>11.077578</td>\n",
       "      <td>6.774224</td>\n",
       "      <td>5.703782</td>\n",
       "      <td>11.077578</td>\n",
       "      <td>1</td>\n",
       "      <td>1</td>\n",
       "      <td>0</td>\n",
       "      <td>0</td>\n",
       "      <td>1</td>\n",
       "      <td>0</td>\n",
       "      <td>0</td>\n",
       "      <td>0</td>\n",
       "      <td>1</td>\n",
       "    </tr>\n",
       "  </tbody>\n",
       "</table>\n",
       "<p>814 rows × 14 columns</p>\n",
       "</div>"
      ],
      "text/plain": [
       "     Credit_History  ApplicantIncomeLog  LoanAmountLog  Loan_Amount_Term_Log  \\\n",
       "0          1.000000            9.744668       5.400092              5.886104   \n",
       "1          0.000000            8.729235       5.400092              5.886104   \n",
       "2          1.000000            7.925158       5.400092              5.886104   \n",
       "3          1.000000            8.674197       5.400092              5.886104   \n",
       "4          1.000000            8.211754       5.400092              5.886104   \n",
       "..              ...                 ...            ...                   ...   \n",
       "809        1.000000           10.113059       6.569481              5.886104   \n",
       "810        0.000000           10.819758       6.620073              5.192957   \n",
       "811        1.000000           10.100492       6.620073              5.886104   \n",
       "812        0.739529           10.134917       6.700731              6.173786   \n",
       "813        1.000000           11.077578       6.774224              5.703782   \n",
       "\n",
       "     Total_Income_Log  Male  Yes  1  2  3+  Not Graduate  Yes  Semiurban  \\\n",
       "0            9.744668     1    1  0  0   0             0    0          0   \n",
       "1            8.729235     1    1  1  0   0             0    0          0   \n",
       "2            8.336151     1    1  0  0   0             0    0          0   \n",
       "3            9.042986     1    0  0  0   0             0    0          1   \n",
       "4            8.646114     1    1  0  1   0             0    0          0   \n",
       "..                ...   ...  ... .. ..  ..           ...  ...        ...   \n",
       "809         10.349647     1    1  0  0   0             0    0          0   \n",
       "810         10.819758     1    1  0  0   1             0    0          1   \n",
       "811         10.100492     0    1  1  0   0             0    1          1   \n",
       "812         10.134917     1    0  0  0   0             0    1          0   \n",
       "813         11.077578     1    1  0  0   1             0    0          0   \n",
       "\n",
       "     Urban  \n",
       "0        1  \n",
       "1        0  \n",
       "2        1  \n",
       "3        0  \n",
       "4        1  \n",
       "..     ...  \n",
       "809      0  \n",
       "810      0  \n",
       "811      0  \n",
       "812      1  \n",
       "813      1  \n",
       "\n",
       "[814 rows x 14 columns]"
      ]
     },
     "execution_count": 83,
     "metadata": {},
     "output_type": "execute_result"
    }
   ],
   "source": [
    "x"
   ]
  },
  {
   "cell_type": "code",
   "execution_count": 84,
   "id": "f3777652",
   "metadata": {},
   "outputs": [
    {
     "data": {
      "text/plain": [
       "0      Y\n",
       "1      N\n",
       "2      Y\n",
       "3      N\n",
       "4      N\n",
       "      ..\n",
       "809    N\n",
       "810    Y\n",
       "811    Y\n",
       "812    Y\n",
       "813    Y\n",
       "Name: Loan_Status, Length: 814, dtype: object"
      ]
     },
     "execution_count": 84,
     "metadata": {},
     "output_type": "execute_result"
    }
   ],
   "source": [
    "y"
   ]
  },
  {
   "cell_type": "code",
   "execution_count": 85,
   "id": "f9df48b3",
   "metadata": {},
   "outputs": [],
   "source": [
    "from sklearn.model_selection import train_test_split\n",
    "x_train, x_test, y_train, y_test = train_test_split(x, y, test_size=0.20, random_state=42)"
   ]
  },
  {
   "cell_type": "code",
   "execution_count": 86,
   "id": "e1462f22",
   "metadata": {},
   "outputs": [],
   "source": [
    "from sklearn.model_selection import train_test_split\n",
    "from sklearn.model_selection import GridSearchCV\n",
    "from sklearn.tree import DecisionTreeClassifier\n",
    "from sklearn.linear_model import LogisticRegression\n",
    "from sklearn.ensemble import RandomForestClassifier\n",
    "from sklearn.neighbors import KNeighborsClassifier\n",
    "from sklearn.naive_bayes import CategoricalNB\n",
    "from sklearn.naive_bayes import GaussianNB\n",
    "from sklearn import metrics\n",
    "from sklearn import svm"
   ]
  },
  {
   "cell_type": "code",
   "execution_count": 87,
   "id": "1d155ed6",
   "metadata": {},
   "outputs": [
    {
     "name": "stdout",
     "output_type": "stream",
     "text": [
      "Training Accuracy is:  80.18433179723502\n",
      "Testing Accuracy is:  79.14110429447852\n",
      "              precision    recall  f1-score   support\n",
      "\n",
      "           N       0.89      0.35      0.50        49\n",
      "           Y       0.78      0.98      0.87       114\n",
      "\n",
      "    accuracy                           0.79       163\n",
      "   macro avg       0.84      0.66      0.68       163\n",
      "weighted avg       0.81      0.79      0.76       163\n",
      "\n"
     ]
    },
    {
     "name": "stderr",
     "output_type": "stream",
     "text": [
      "C:\\Users\\anikr\\.conda\\envs\\tf\\lib\\site-packages\\sklearn\\linear_model\\_logistic.py:458: ConvergenceWarning: lbfgs failed to converge (status=1):\n",
      "STOP: TOTAL NO. of ITERATIONS REACHED LIMIT.\n",
      "\n",
      "Increase the number of iterations (max_iter) or scale the data as shown in:\n",
      "    https://scikit-learn.org/stable/modules/preprocessing.html\n",
      "Please also refer to the documentation for alternative solver options:\n",
      "    https://scikit-learn.org/stable/modules/linear_model.html#logistic-regression\n",
      "  n_iter_i = _check_optimize_result(\n"
     ]
    }
   ],
   "source": [
    "#Logistic Regression\n",
    "logistic = LogisticRegression()\n",
    "logistic.fit(x_train, y_train)\n",
    "print(\"Training Accuracy is: \", logistic.score(x_train, y_train)*100)\n",
    "print(\"Testing Accuracy is: \", logistic.score(x_test, y_test)*100)\n",
    "y_pred = logistic.predict(x_test)\n",
    "print(metrics.classification_report(y_test, y_pred))"
   ]
  },
  {
   "cell_type": "code",
   "execution_count": 88,
   "id": "b6a637ea",
   "metadata": {},
   "outputs": [
    {
     "name": "stdout",
     "output_type": "stream",
     "text": [
      "Training Accuracy is:  100.0\n",
      "Testing Accuracy is:  78.52760736196319\n",
      "              precision    recall  f1-score   support\n",
      "\n",
      "           N       0.63      0.69      0.66        49\n",
      "           Y       0.86      0.82      0.84       114\n",
      "\n",
      "    accuracy                           0.79       163\n",
      "   macro avg       0.75      0.76      0.75       163\n",
      "weighted avg       0.79      0.79      0.79       163\n",
      "\n"
     ]
    }
   ],
   "source": [
    "#Decision Tree\n",
    "tree = DecisionTreeClassifier()\n",
    "tree.fit(x_train, y_train)\n",
    "print(\"Training Accuracy is: \", tree.score(x_train, y_train)*100)\n",
    "print(\"Testing Accuracy is: \", tree.score(x_test, y_test)*100)\n",
    "y_pred = tree.predict(x_test)\n",
    "print(metrics.classification_report(y_test, y_pred))"
   ]
  },
  {
   "cell_type": "code",
   "execution_count": 89,
   "id": "b7e5536b",
   "metadata": {},
   "outputs": [
    {
     "name": "stdout",
     "output_type": "stream",
     "text": [
      "Training Accuracy is 100.0\n",
      "Testing Accuracy is 82.20858895705521\n",
      "              precision    recall  f1-score   support\n",
      "\n",
      "           N       0.79      0.55      0.65        49\n",
      "           Y       0.83      0.94      0.88       114\n",
      "\n",
      "    accuracy                           0.82       163\n",
      "   macro avg       0.81      0.74      0.77       163\n",
      "weighted avg       0.82      0.82      0.81       163\n",
      "\n"
     ]
    }
   ],
   "source": [
    "#Random Forest\n",
    "forest = RandomForestClassifier()\n",
    "forest.fit(x_train, y_train)\n",
    "print(\"Training Accuracy is\", forest.score(x_train, y_train)*100)\n",
    "print(\"Testing Accuracy is\", forest.score(x_test, y_test)*100)\n",
    "y_pred = forest.predict(x_test)\n",
    "print(metrics.classification_report(y_test, y_pred))"
   ]
  },
  {
   "cell_type": "code",
   "execution_count": 90,
   "id": "df67836d",
   "metadata": {},
   "outputs": [
    {
     "name": "stdout",
     "output_type": "stream",
     "text": [
      "Training Accuracy is:  72.35023041474655\n",
      "Testing Accuracy is:  69.93865030674846\n",
      "              precision    recall  f1-score   support\n",
      "\n",
      "           N       0.00      0.00      0.00        49\n",
      "           Y       0.70      1.00      0.82       114\n",
      "\n",
      "    accuracy                           0.70       163\n",
      "   macro avg       0.35      0.50      0.41       163\n",
      "weighted avg       0.49      0.70      0.58       163\n",
      "\n"
     ]
    },
    {
     "name": "stderr",
     "output_type": "stream",
     "text": [
      "C:\\Users\\anikr\\.conda\\envs\\tf\\lib\\site-packages\\sklearn\\metrics\\_classification.py:1344: UndefinedMetricWarning: Precision and F-score are ill-defined and being set to 0.0 in labels with no predicted samples. Use `zero_division` parameter to control this behavior.\n",
      "  _warn_prf(average, modifier, msg_start, len(result))\n",
      "C:\\Users\\anikr\\.conda\\envs\\tf\\lib\\site-packages\\sklearn\\metrics\\_classification.py:1344: UndefinedMetricWarning: Precision and F-score are ill-defined and being set to 0.0 in labels with no predicted samples. Use `zero_division` parameter to control this behavior.\n",
      "  _warn_prf(average, modifier, msg_start, len(result))\n",
      "C:\\Users\\anikr\\.conda\\envs\\tf\\lib\\site-packages\\sklearn\\metrics\\_classification.py:1344: UndefinedMetricWarning: Precision and F-score are ill-defined and being set to 0.0 in labels with no predicted samples. Use `zero_division` parameter to control this behavior.\n",
      "  _warn_prf(average, modifier, msg_start, len(result))\n"
     ]
    }
   ],
   "source": [
    "#SVM\n",
    "svm = svm.SVC()\n",
    "svm.fit(x_train,y_train)\n",
    "print(\"Training Accuracy is: \", svm.score(x_train, y_train)*100)\n",
    "print(\"Testing Accuracy is: \", svm.score(x_test, y_test)*100)\n",
    "y_pred = svm.predict(x_test)\n",
    "print(metrics.classification_report(y_test, y_pred))"
   ]
  },
  {
   "cell_type": "code",
   "execution_count": 91,
   "id": "0b745f49",
   "metadata": {},
   "outputs": [
    {
     "name": "stdout",
     "output_type": "stream",
     "text": [
      "Training Accuracy is:  82.18125960061444\n",
      "Testing Accuracy is:  76.07361963190185\n",
      "              precision    recall  f1-score   support\n",
      "\n",
      "           N       0.73      0.33      0.45        49\n",
      "           Y       0.77      0.95      0.85       114\n",
      "\n",
      "    accuracy                           0.76       163\n",
      "   macro avg       0.75      0.64      0.65       163\n",
      "weighted avg       0.75      0.76      0.73       163\n",
      "\n"
     ]
    }
   ],
   "source": [
    "#KNN\n",
    "knn = KNeighborsClassifier()\n",
    "knn.fit(x_train,y_train)\n",
    "print(\"Training Accuracy is: \", knn.score(x_train, y_train)*100)\n",
    "print(\"Testing Accuracy is: \", knn.score(x_test, y_test)*100)\n",
    "y_pred = knn.predict(x_test)\n",
    "print(metrics.classification_report(y_test, y_pred))"
   ]
  },
  {
   "cell_type": "code",
   "execution_count": 92,
   "id": "6a4ba9f6",
   "metadata": {},
   "outputs": [
    {
     "name": "stdout",
     "output_type": "stream",
     "text": [
      "Training Accuracy is:  76.19047619047619\n",
      "Testing Accuracy is:  77.30061349693251\n",
      "              precision    recall  f1-score   support\n",
      "\n",
      "           N       0.80      0.33      0.46        49\n",
      "           Y       0.77      0.96      0.86       114\n",
      "\n",
      "    accuracy                           0.77       163\n",
      "   macro avg       0.78      0.65      0.66       163\n",
      "weighted avg       0.78      0.77      0.74       163\n",
      "\n"
     ]
    }
   ],
   "source": [
    "#Categorical Naive Bayes\n",
    "NBclassifier1 = CategoricalNB()\n",
    "NBclassifier1.fit(x_train, y_train)\n",
    "print(\"Training Accuracy is: \", NBclassifier1.score(x_train, y_train)*100)\n",
    "print(\"Testing Accuracy is: \", NBclassifier1.score(x_test, y_test)*100)\n",
    "y_pred = NBclassifier1.predict(x_test)\n",
    "print(metrics.classification_report(y_test, y_pred))"
   ]
  },
  {
   "cell_type": "code",
   "execution_count": 93,
   "id": "a4daa2a2",
   "metadata": {},
   "outputs": [
    {
     "name": "stdout",
     "output_type": "stream",
     "text": [
      "Training Accuracy is:  78.64823348694317\n",
      "Testing Accuracy is:  78.52760736196319\n",
      "              precision    recall  f1-score   support\n",
      "\n",
      "           N       0.79      0.39      0.52        49\n",
      "           Y       0.78      0.96      0.86       114\n",
      "\n",
      "    accuracy                           0.79       163\n",
      "   macro avg       0.79      0.67      0.69       163\n",
      "weighted avg       0.79      0.79      0.76       163\n",
      "\n"
     ]
    }
   ],
   "source": [
    "#Gaussian Naive Bayes\n",
    "NBclassifier2 = GaussianNB()\n",
    "NBclassifier2.fit(x_train, y_train)\n",
    "print(\"Training Accuracy is: \", NBclassifier2.score(x_train, y_train)*100)\n",
    "print(\"Testing Accuracy is: \", NBclassifier2.score(x_test, y_test)*100)\n",
    "y_pred = NBclassifier2.predict(x_test)\n",
    "print(metrics.classification_report(y_test, y_pred))"
   ]
  },
  {
   "cell_type": "code",
   "execution_count": 94,
   "id": "6d7a490a",
   "metadata": {},
   "outputs": [],
   "source": [
    "import pickle as pkl"
   ]
  },
  {
   "cell_type": "code",
   "execution_count": 95,
   "id": "c1b81a7e",
   "metadata": {},
   "outputs": [],
   "source": [
    "filename = 'forest_final.pkl'\n",
    "pkl.dump(forest, open(filename, 'wb'))"
   ]
  },
  {
   "cell_type": "code",
   "execution_count": null,
   "id": "ac29de88",
   "metadata": {},
   "outputs": [],
   "source": []
  },
  {
   "cell_type": "code",
   "execution_count": null,
   "id": "c07a435e",
   "metadata": {},
   "outputs": [],
   "source": []
  },
  {
   "cell_type": "code",
   "execution_count": null,
   "id": "303d7a51",
   "metadata": {},
   "outputs": [],
   "source": []
  }
 ],
 "metadata": {
  "kernelspec": {
   "display_name": "Python 3 (ipykernel)",
   "language": "python",
   "name": "python3"
  },
  "language_info": {
   "codemirror_mode": {
    "name": "ipython",
    "version": 3
   },
   "file_extension": ".py",
   "mimetype": "text/x-python",
   "name": "python",
   "nbconvert_exporter": "python",
   "pygments_lexer": "ipython3",
   "version": "3.9.15"
  }
 },
 "nbformat": 4,
 "nbformat_minor": 5
}
